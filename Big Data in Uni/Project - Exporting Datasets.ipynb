{
 "cells": [
  {
   "cell_type": "code",
   "execution_count": 1,
   "metadata": {},
   "outputs": [],
   "source": [
    "from pymongo import MongoClient\n",
    "from IPython.core.interactiveshell import InteractiveShell\n",
    "InteractiveShell.ast_node_interactivity = \"all\""
   ]
  },
  {
   "cell_type": "code",
   "execution_count": 2,
   "metadata": {},
   "outputs": [],
   "source": [
    "# Connect to MongoDB locally with database named 'project-bigdata'\n",
    "MONGO_HOST = 'mongodb://localhost/projectbigdata'"
   ]
  },
  {
   "cell_type": "code",
   "execution_count": 3,
   "metadata": {
    "scrolled": true
   },
   "outputs": [
    {
     "data": {
      "text/plain": [
       "70000"
      ]
     },
     "execution_count": 3,
     "metadata": {},
     "output_type": "execute_result"
    }
   ],
   "source": [
    "col = MongoClient()[\"projectbigdata\"][\"bitcointweets\"]\n",
    "col.count()"
   ]
  },
  {
   "cell_type": "markdown",
   "metadata": {},
   "source": [
    "# Test Access to Collections"
   ]
  },
  {
   "cell_type": "code",
   "execution_count": 4,
   "metadata": {},
   "outputs": [],
   "source": [
    "from bson.objectid import ObjectId"
   ]
  },
  {
   "cell_type": "code",
   "execution_count": null,
   "metadata": {},
   "outputs": [],
   "source": [
    "firstdata[\"created_at\"]"
   ]
  },
  {
   "cell_type": "code",
   "execution_count": null,
   "metadata": {},
   "outputs": [],
   "source": [
    "firstdata[\"lang\"]"
   ]
  },
  {
   "cell_type": "code",
   "execution_count": null,
   "metadata": {
    "scrolled": true
   },
   "outputs": [],
   "source": [
    "firstdata = col.find_one()\n",
    "display(firstdata)"
   ]
  },
  {
   "cell_type": "code",
   "execution_count": null,
   "metadata": {},
   "outputs": [],
   "source": [
    "firstdata_id = firstdata[\"_id\"]\n",
    "print(type(firstdata_id))\n",
    "firstdata_id"
   ]
  },
  {
   "cell_type": "code",
   "execution_count": null,
   "metadata": {},
   "outputs": [],
   "source": [
    "firstdata[\"text\"]"
   ]
  },
  {
   "cell_type": "code",
   "execution_count": null,
   "metadata": {},
   "outputs": [],
   "source": [
    "second = \"5ae35ab09ccd1e1180e8aeda\"\n",
    "\n",
    "seconddata = col.find_one( {\"_id\": ObjectId(second) } )\n",
    "display(seconddata)"
   ]
  },
  {
   "cell_type": "code",
   "execution_count": null,
   "metadata": {},
   "outputs": [],
   "source": [
    "seconddata[\"created_at\"]"
   ]
  },
  {
   "cell_type": "code",
   "execution_count": null,
   "metadata": {},
   "outputs": [],
   "source": [
    "seconddata[\"text\"]"
   ]
  },
  {
   "cell_type": "code",
   "execution_count": null,
   "metadata": {},
   "outputs": [],
   "source": [
    "seconddata[\"retweeted_status\"][\"extended_tweet\"][\"full_text\"]"
   ]
  },
  {
   "cell_type": "code",
   "execution_count": null,
   "metadata": {},
   "outputs": [],
   "source": [
    "item_list = [seconddata, thirddata ]\n",
    "tobe_appended = []\n",
    "for item in item_list:\n",
    "    try:\n",
    "        tobe_appended.append(item[\"extended_tweet\"][\"full_text\"])\n",
    "    except:\n",
    "        tobe_appended.append(0)"
   ]
  },
  {
   "cell_type": "code",
   "execution_count": null,
   "metadata": {},
   "outputs": [],
   "source": [
    "tobe_appended"
   ]
  },
  {
   "cell_type": "code",
   "execution_count": null,
   "metadata": {},
   "outputs": [],
   "source": [
    "seconddata[\"retweeted_status\"][\"extended_tweet\"][\"entities\"][\"hashtags\"]\n",
    "for i in range(len(seconddata[\"retweeted_status\"][\"extended_tweet\"][\"entities\"][\"hashtags\"])):\n",
    "    print(seconddata[\"retweeted_status\"][\"extended_tweet\"][\"entities\"][\"hashtags\"][i][\"text\"])"
   ]
  },
  {
   "cell_type": "code",
   "execution_count": null,
   "metadata": {},
   "outputs": [],
   "source": [
    "thirddata = col.find_one( {\"_id\": ObjectId(\"5ae35ab49ccd1e1180e8aef8\")} )\n",
    "display(thirddata)"
   ]
  },
  {
   "cell_type": "code",
   "execution_count": null,
   "metadata": {
    "scrolled": true
   },
   "outputs": [],
   "source": [
    "thirddata[\"extended_tweet\"][\"full_text\"]"
   ]
  },
  {
   "cell_type": "code",
   "execution_count": null,
   "metadata": {},
   "outputs": [],
   "source": [
    "thirddata[\"extended_tweet\"][\"entities\"][\"hashtags\"]"
   ]
  },
  {
   "cell_type": "code",
   "execution_count": null,
   "metadata": {},
   "outputs": [],
   "source": [
    "print(firstdata_id.generation_time.strftime(\"%Y-%m-%d %H:%M:%S %z\"))"
   ]
  },
  {
   "cell_type": "code",
   "execution_count": null,
   "metadata": {},
   "outputs": [],
   "source": [
    "print(firstdata_id.generation_time.day)"
   ]
  },
  {
   "cell_type": "code",
   "execution_count": null,
   "metadata": {},
   "outputs": [],
   "source": [
    "firstdata[\"created_at\"]\n",
    "# 1524849316896"
   ]
  },
  {
   "cell_type": "code",
   "execution_count": null,
   "metadata": {},
   "outputs": [],
   "source": [
    "#firstdata[\"created_at\"] == \"Fri Apr 27 17:15:16 +0000 2018\"\n",
    "firstdata[\"created_at\"][0:10] == \"Fri Apr 27\""
   ]
  },
  {
   "cell_type": "markdown",
   "metadata": {},
   "source": [
    "If it's Unicoded, use print()"
   ]
  },
  {
   "cell_type": "code",
   "execution_count": null,
   "metadata": {},
   "outputs": [],
   "source": [
    "firstdata[\"text\"]"
   ]
  },
  {
   "cell_type": "code",
   "execution_count": null,
   "metadata": {},
   "outputs": [],
   "source": [
    "firstdata[\"user\"]"
   ]
  },
  {
   "cell_type": "code",
   "execution_count": null,
   "metadata": {},
   "outputs": [],
   "source": [
    "firstdata[\"user\"][\"name\"]"
   ]
  },
  {
   "cell_type": "code",
   "execution_count": null,
   "metadata": {},
   "outputs": [],
   "source": [
    "firstdata[\"user\"][\"time_zone\"]"
   ]
  },
  {
   "cell_type": "code",
   "execution_count": null,
   "metadata": {},
   "outputs": [],
   "source": [
    "# hashtag\n",
    "firstdata[\"entities\"][\"hashtags\"][0].values()"
   ]
  },
  {
   "cell_type": "code",
   "execution_count": null,
   "metadata": {},
   "outputs": [],
   "source": [
    "len(firstdata[\"entities\"][\"hashtags\"])"
   ]
  },
  {
   "cell_type": "code",
   "execution_count": null,
   "metadata": {},
   "outputs": [],
   "source": [
    "for value in range(len(firstdata[\"entities\"][\"hashtags\"])):\n",
    "    print(firstdata[\"entities\"][\"hashtags\"][value][\"text\"])"
   ]
  },
  {
   "cell_type": "markdown",
   "metadata": {},
   "source": [
    "User - Timezone\n",
    "\n",
    "Entities - Hashtag\n",
    "\n",
    "Text\n",
    "\n",
    "User - Name"
   ]
  },
  {
   "cell_type": "markdown",
   "metadata": {},
   "source": [
    "# Preparing the Main File and Figuring out Extended Tweets and Retweets"
   ]
  },
  {
   "cell_type": "code",
   "execution_count": 5,
   "metadata": {},
   "outputs": [],
   "source": [
    "# get collections id\n",
    "\n",
    "item_ids = col.find().distinct(\"_id\")"
   ]
  },
  {
   "cell_type": "code",
   "execution_count": 6,
   "metadata": {},
   "outputs": [],
   "source": [
    "# get collections id as string with list comprehension\n",
    "\n",
    "item_ids = [ str(item_id) for item_id in col.find().distinct(\"_id\") ]"
   ]
  },
  {
   "cell_type": "code",
   "execution_count": 7,
   "metadata": {},
   "outputs": [],
   "source": [
    "def get_date(x):\n",
    "    \"\"\"\n",
    "    x is string object.\n",
    "    \"\"\"\n",
    "    assert (type(x) is str), \"Object type is not string\"\n",
    "    \n",
    "    data = col.find_one({\"_id\": ObjectId(x)})\n",
    "    try:\n",
    "        return data[\"created_at\"]\n",
    "    except:\n",
    "        return 0"
   ]
  },
  {
   "cell_type": "code",
   "execution_count": 8,
   "metadata": {},
   "outputs": [],
   "source": [
    "def get_lang(x):\n",
    "    \"\"\"\n",
    "    x is string object.\n",
    "    \"\"\"\n",
    "    assert (type(x) is str), \"Object type is not string\"\n",
    "    \n",
    "    data = col.find_one({\"_id\": ObjectId(x)})\n",
    "    try:\n",
    "        return data[\"lang\"]\n",
    "    except:\n",
    "        return 0"
   ]
  },
  {
   "cell_type": "code",
   "execution_count": 9,
   "metadata": {},
   "outputs": [],
   "source": [
    "def get_text(x):\n",
    "    \"\"\"\n",
    "    x is string object.\n",
    "    \"\"\"\n",
    "    assert (type(x) is str), \"Object type is not string\"\n",
    "    \n",
    "    data = col.find_one({\"_id\": ObjectId(x)})\n",
    "    \n",
    "    try:\n",
    "        return data[\"text\"]\n",
    "    except:\n",
    "        return 0"
   ]
  },
  {
   "cell_type": "code",
   "execution_count": 10,
   "metadata": {},
   "outputs": [],
   "source": [
    "def get_extended_tweet(x):\n",
    "    \"\"\"\n",
    "    x is string object.\n",
    "    \"\"\"\n",
    "    assert (type(x) is str), \"Object type is not string\"\n",
    "    \n",
    "    data = col.find_one({\"_id\": ObjectId(x)})\n",
    "    \n",
    "    try:\n",
    "        return data[\"extended_tweet\"][\"full_text\"]\n",
    "    except:\n",
    "        return 0"
   ]
  },
  {
   "cell_type": "code",
   "execution_count": 11,
   "metadata": {},
   "outputs": [],
   "source": [
    "def get_retweets(x):\n",
    "    \"\"\"\n",
    "    x is string object\n",
    "    \"\"\"\n",
    "    assert (type(x) is str), \"Object type is not string\"\n",
    "    \n",
    "    data = col.find_one({\"_id\": ObjectId(x)})\n",
    "    \n",
    "    try:\n",
    "        return data[\"retweeted_status\"][\"extended_tweet\"][\"full_text\"]\n",
    "    except:\n",
    "        return 0"
   ]
  },
  {
   "cell_type": "code",
   "execution_count": 23,
   "metadata": {},
   "outputs": [],
   "source": [
    "created_at = list(map(get_date, item_ids))\n",
    "lang_list = list(map(get_lang, item_ids))\n",
    "text_list = list((map(get_text, item_ids)))\n",
    "extended_tweet_list = list(map(get_extended_tweet, item_ids)) # gets list of None\n",
    "retweets_list = list(map(get_retweets, item_ids)) # gets list of None"
   ]
  },
  {
   "cell_type": "code",
   "execution_count": 13,
   "metadata": {},
   "outputs": [
    {
     "data": {
      "text/plain": [
       "['Fri Apr 27 17:15:16 +0000 2018',\n",
       " 'Fri Apr 27 17:15:17 +0000 2018',\n",
       " 'Fri Apr 27 17:15:17 +0000 2018',\n",
       " 'Fri Apr 27 17:15:17 +0000 2018',\n",
       " 'Fri Apr 27 17:15:17 +0000 2018',\n",
       " 'Fri Apr 27 17:15:18 +0000 2018',\n",
       " 'Fri Apr 27 17:15:18 +0000 2018',\n",
       " 'Fri Apr 27 17:15:19 +0000 2018',\n",
       " 'Fri Apr 27 17:15:19 +0000 2018',\n",
       " 'Fri Apr 27 17:15:19 +0000 2018']"
      ]
     },
     "execution_count": 13,
     "metadata": {},
     "output_type": "execute_result"
    }
   ],
   "source": [
    "created_at[0:10]"
   ]
  },
  {
   "cell_type": "code",
   "execution_count": 14,
   "metadata": {},
   "outputs": [
    {
     "data": {
      "text/plain": [
       "['en', 'en', 'en', 'en', 'en', 'en', 'en', 'en', 'en', 'en']"
      ]
     },
     "execution_count": 14,
     "metadata": {},
     "output_type": "execute_result"
    }
   ],
   "source": [
    "lang_list[0:10]"
   ]
  },
  {
   "cell_type": "code",
   "execution_count": 15,
   "metadata": {},
   "outputs": [
    {
     "data": {
      "text/plain": [
       "['Paypal’s Former CEO Says #Bitcoin Investors Are ‘Drinking the Kool-Aid’ https://t.co/asb9U80viT #crypto #blockchain https://t.co/crYs3ifhFC',\n",
       " \"RT @escobar_inc: 【Dietbitcoin】Fork of Bitcoin by Pablo Escobar's brother for only $3.50 per coin. https://t.co/zV9Z9lxKis  deposit BTC now…\",\n",
       " 'RT @ECAstronaut: I have decided to do 25 winners.... 1000 each for the last 25000 #ECA from the 125000 #Electra follow giveaway....💜 20 mor…',\n",
       " \"RT @Aruwba: Join me this weekend for some HOT fun in the garden 💦\\nDon't miss out add my premium now!\\n🔥ONLY $25 FOR LIFE🔥\\nThe price goes bac…\",\n",
       " 'Do we have the Right to financial Rebellion? #Occupy #Inequality #Bitcoin #State #Neoliberalism… https://t.co/SOJLwk5i03',\n",
       " \"RT @bethereumteam: We're in the TOP 10 of @sergiogarciafer rated #ICOs! 🔥\\nRead more: https://t.co/3FFYuvK8JE\\n#Crypto #Blockchain #ERC20 #Bl…\",\n",
       " 'Markets Update: Cryptocurrencies Erase Two-Day Losses,https://t.co/hrxjTKEgiT',\n",
       " 'RT @Airexe_official: 16,000 #bitcoins (an amount worth\\xa0about $141 million) tied to the now-defunct #bitcoin exchange #MtGox were moved on T…',\n",
       " '\"I don\\'t know how many of you in the room have actually got Bitcoin, but any of you who have got Bitcoin will know… https://t.co/5as5IJ6nfb',\n",
       " 'RT @AffiliateCoin: Bitcoin Daily: Nasdaq Might Trade Crypto | https://t.co/pM5aQPleOU https://t.co/z71w85sMDx https://t.co/edBJxwbjfN']"
      ]
     },
     "execution_count": 15,
     "metadata": {},
     "output_type": "execute_result"
    },
    {
     "data": {
      "text/plain": [
       "70000"
      ]
     },
     "execution_count": 15,
     "metadata": {},
     "output_type": "execute_result"
    }
   ],
   "source": [
    "text_list[0:10]\n",
    "len(text_list)"
   ]
  },
  {
   "cell_type": "code",
   "execution_count": 16,
   "metadata": {},
   "outputs": [
    {
     "data": {
      "text/plain": [
       "70000"
      ]
     },
     "execution_count": 16,
     "metadata": {},
     "output_type": "execute_result"
    },
    {
     "data": {
      "text/plain": [
       "70000"
      ]
     },
     "execution_count": 16,
     "metadata": {},
     "output_type": "execute_result"
    }
   ],
   "source": [
    "len(extended_tweet_list)\n",
    "len(retweets_list)"
   ]
  },
  {
   "cell_type": "code",
   "execution_count": 17,
   "metadata": {},
   "outputs": [
    {
     "data": {
      "text/plain": [
       "[0,\n",
       " 0,\n",
       " 0,\n",
       " 0,\n",
       " 'Do we have the Right to financial Rebellion? #Occupy #Inequality #Bitcoin #State #Neoliberalism https://t.co/ooquZCecy9 https://t.co/nD2XVmTbrB',\n",
       " 0,\n",
       " 0,\n",
       " 0,\n",
       " '\"I don\\'t know how many of you in the room have actually got Bitcoin, but any of you who have got Bitcoin will know it\\'s a pretty lousy medium of exchange right now.\" @gilliantett  https://t.co/ps40evNVRE',\n",
       " 0]"
      ]
     },
     "execution_count": 17,
     "metadata": {},
     "output_type": "execute_result"
    }
   ],
   "source": [
    "extended_tweet_list[0:10]"
   ]
  },
  {
   "cell_type": "code",
   "execution_count": 18,
   "metadata": {},
   "outputs": [
    {
     "data": {
      "text/plain": [
       "[0,\n",
       " \"【Dietbitcoin】Fork of Bitcoin by Pablo Escobar's brother for only $3.50 per coin. https://t.co/zV9Z9lxKis  deposit BTC now and purchase dietbitcoin DDX #dietbitcoin #ddx $ddx\",\n",
       " 'I have decided to do 25 winners.... 1000 each for the last 25000 #ECA from the 125000 #Electra follow giveaway....💜 20 more follows and 25 followers will get 1000 ECA each!!!👌💜 Spread love.... #Community #Crypto #cryptonews #Bitcoin #BTC $BTC #Verge #XVG $XVG #XRP #LOVE #HODL https://t.co/UhHTja9Db6',\n",
       " \"Join me this weekend for some HOT fun in the garden 💦\\nDon't miss out add my premium now!\\n🔥ONLY $25 FOR LIFE🔥\\nThe price goes back up on Monday🙀\\nClick Here ➡️ https://t.co/nlE16zz4hC     \\n  \\n#BTC #Bitcoin $crypto $cryp $btc #cryptocurrency #Litecoin Accepted😚 https://t.co/3IGxOoZQwj\",\n",
       " 0,\n",
       " \"We're in the TOP 10 of @sergiogarciafer rated #ICOs! 🔥\\nRead more: https://t.co/3FFYuvK8JE\\n#Crypto #Blockchain #ERC20 #Blockchain #Bitcoin #Ethereum #Coinbase #Litecoin #ICO #preICO #presale #SmartContract #Coinmarketcap #ETH #BTC $ETH $BTC https://t.co/jlPjfflg3E\",\n",
       " 0,\n",
       " '16,000 #bitcoins (an amount worth\\xa0about $141 million) tied to the now-defunct #bitcoin exchange #MtGox were moved on Thursday.\\n\\n#AIREXE exchange #ICO is open. Registration and verification is started.\\n\\nhttps://t.co/p05YnNOOMJ',\n",
       " 0,\n",
       " 0]"
      ]
     },
     "execution_count": 18,
     "metadata": {},
     "output_type": "execute_result"
    }
   ],
   "source": [
    "retweets_list[0:10]"
   ]
  },
  {
   "cell_type": "markdown",
   "metadata": {},
   "source": [
    "# Stripping Newlines from Text \n",
    "\n",
    "For cleaner writing to csv"
   ]
  },
  {
   "cell_type": "code",
   "execution_count": 19,
   "metadata": {},
   "outputs": [],
   "source": [
    "def newlines_stripper(x):\n",
    "    \"\"\"\n",
    "    x is a string object, if int, pass\n",
    "    \"\"\"\n",
    "    if type(x) is str:\n",
    "        new_string = x.split()\n",
    "        new_string = \" \".join(new_string)\n",
    "        return new_string\n",
    "    else:\n",
    "        return x"
   ]
  },
  {
   "cell_type": "code",
   "execution_count": 24,
   "metadata": {},
   "outputs": [],
   "source": [
    "text_list = list(map(newlines_stripper, text_list))\n",
    "extended_tweet_list = list(map(newlines_stripper, extended_tweet_list))\n",
    "retweets_list = list(map(newlines_stripper, retweets_list ))"
   ]
  },
  {
   "cell_type": "code",
   "execution_count": 26,
   "metadata": {},
   "outputs": [],
   "source": [
    "zipped_tweets = list(zip(created_at, lang_list, text_list, extended_tweet_list, retweets_list))"
   ]
  },
  {
   "cell_type": "code",
   "execution_count": 31,
   "metadata": {},
   "outputs": [
    {
     "data": {
      "text/plain": [
       "[('Fri Apr 27 17:15:16 +0000 2018',\n",
       "  'en',\n",
       "  'Paypal’s Former CEO Says #Bitcoin Investors Are ‘Drinking the Kool-Aid’ https://t.co/asb9U80viT #crypto #blockchain https://t.co/crYs3ifhFC',\n",
       "  0,\n",
       "  0),\n",
       " ('Fri Apr 27 17:15:17 +0000 2018',\n",
       "  'en',\n",
       "  \"RT @escobar_inc: 【Dietbitcoin】Fork of Bitcoin by Pablo Escobar's brother for only $3.50 per coin. https://t.co/zV9Z9lxKis deposit BTC now…\",\n",
       "  0,\n",
       "  \"【Dietbitcoin】Fork of Bitcoin by Pablo Escobar's brother for only $3.50 per coin. https://t.co/zV9Z9lxKis deposit BTC now and purchase dietbitcoin DDX #dietbitcoin #ddx $ddx\"),\n",
       " ('Fri Apr 27 17:15:17 +0000 2018',\n",
       "  'en',\n",
       "  'RT @ECAstronaut: I have decided to do 25 winners.... 1000 each for the last 25000 #ECA from the 125000 #Electra follow giveaway....💜 20 mor…',\n",
       "  0,\n",
       "  'I have decided to do 25 winners.... 1000 each for the last 25000 #ECA from the 125000 #Electra follow giveaway....💜 20 more follows and 25 followers will get 1000 ECA each!!!👌💜 Spread love.... #Community #Crypto #cryptonews #Bitcoin #BTC $BTC #Verge #XVG $XVG #XRP #LOVE #HODL https://t.co/UhHTja9Db6'),\n",
       " ('Fri Apr 27 17:15:17 +0000 2018',\n",
       "  'en',\n",
       "  \"RT @Aruwba: Join me this weekend for some HOT fun in the garden 💦 Don't miss out add my premium now! 🔥ONLY $25 FOR LIFE🔥 The price goes bac…\",\n",
       "  0,\n",
       "  \"Join me this weekend for some HOT fun in the garden 💦 Don't miss out add my premium now! 🔥ONLY $25 FOR LIFE🔥 The price goes back up on Monday🙀 Click Here ➡️ https://t.co/nlE16zz4hC #BTC #Bitcoin $crypto $cryp $btc #cryptocurrency #Litecoin Accepted😚 https://t.co/3IGxOoZQwj\"),\n",
       " ('Fri Apr 27 17:15:17 +0000 2018',\n",
       "  'en',\n",
       "  'Do we have the Right to financial Rebellion? #Occupy #Inequality #Bitcoin #State #Neoliberalism… https://t.co/SOJLwk5i03',\n",
       "  'Do we have the Right to financial Rebellion? #Occupy #Inequality #Bitcoin #State #Neoliberalism https://t.co/ooquZCecy9 https://t.co/nD2XVmTbrB',\n",
       "  0)]"
      ]
     },
     "execution_count": 31,
     "metadata": {},
     "output_type": "execute_result"
    }
   ],
   "source": [
    "zipped_tweets[0:5]"
   ]
  },
  {
   "cell_type": "code",
   "execution_count": 32,
   "metadata": {},
   "outputs": [],
   "source": [
    "import pandas as pd"
   ]
  },
  {
   "cell_type": "code",
   "execution_count": 34,
   "metadata": {},
   "outputs": [],
   "source": [
    "zipped_tweets_df = pd.DataFrame(zipped_tweets, columns=[\"Created At\", \"Language\", \"Text\", \"Extended Tweets\", \"Retweets\"])"
   ]
  },
  {
   "cell_type": "code",
   "execution_count": 37,
   "metadata": {},
   "outputs": [],
   "source": [
    "zipped_tweets_df.to_csv(\"data for sentiment.csv\", encoding=\"utf-8\", index=False) "
   ]
  },
  {
   "cell_type": "markdown",
   "metadata": {},
   "source": [
    "# Trying to Convert to CSV\n",
    "\n",
    "in the end used pandas dataframe though..."
   ]
  },
  {
   "cell_type": "code",
   "execution_count": null,
   "metadata": {},
   "outputs": [],
   "source": [
    "import csv"
   ]
  },
  {
   "cell_type": "code",
   "execution_count": null,
   "metadata": {},
   "outputs": [],
   "source": [
    "with open(\"tweet_text.csv\", \"w\", newline=\"\", encoding=\"utf-8\") as f: # newline used to avoid binary formatting\n",
    "    writer = csv.writer(f)\n",
    "    writer.writerows(zipped_tweets[0:10])"
   ]
  },
  {
   "cell_type": "code",
   "execution_count": null,
   "metadata": {},
   "outputs": [],
   "source": [
    "zipped_tweets[3]"
   ]
  },
  {
   "cell_type": "markdown",
   "metadata": {},
   "source": [
    "# Make DataFrame from Collections"
   ]
  },
  {
   "cell_type": "code",
   "execution_count": null,
   "metadata": {
    "scrolled": true
   },
   "outputs": [],
   "source": [
    "df = pd.DataFrame(list(col.find(value)))\n",
    "\n",
    "#df = pd.DataFrame(list(col.find({\"created_at\": { $gt: \"Fri Apr 27\"}})))"
   ]
  },
  {
   "cell_type": "code",
   "execution_count": null,
   "metadata": {},
   "outputs": [],
   "source": [
    "df = pd.DataFrame(list(col.find({ \"created_at\": { '$gt': \"Fri Apr 27\"}})))\n",
    "df.head()"
   ]
  },
  {
   "cell_type": "code",
   "execution_count": null,
   "metadata": {},
   "outputs": [],
   "source": [
    "len(df)"
   ]
  },
  {
   "cell_type": "code",
   "execution_count": null,
   "metadata": {
    "scrolled": true
   },
   "outputs": [],
   "source": [
    "new_df = df[['created_at', 'lang', 'text']].copy()"
   ]
  },
  {
   "cell_type": "code",
   "execution_count": null,
   "metadata": {
    "scrolled": true
   },
   "outputs": [],
   "source": [
    "new_df.head(20)"
   ]
  },
  {
   "cell_type": "code",
   "execution_count": null,
   "metadata": {},
   "outputs": [],
   "source": [
    "len(new_df)"
   ]
  },
  {
   "cell_type": "code",
   "execution_count": null,
   "metadata": {},
   "outputs": [],
   "source": [
    "new_df.tail()"
   ]
  },
  {
   "cell_type": "code",
   "execution_count": null,
   "metadata": {},
   "outputs": [],
   "source": [
    "# pandas \n",
    "x = []\n",
    "y = []\n",
    "z = []\n",
    "\n",
    "x = col[\"user\"][\"name\"]\n",
    "y = col[\"user\"][\"time_zone\"]\n",
    "z = col[\"entities\"][\"hashtags\"]"
   ]
  },
  {
   "cell_type": "code",
   "execution_count": null,
   "metadata": {},
   "outputs": [],
   "source": [
    "df = p"
   ]
  },
  {
   "cell_type": "code",
   "execution_count": null,
   "metadata": {},
   "outputs": [],
   "source": [
    "new_df.to_csv(\"tweet_main.csv\", encoding='utf-8', index=False)"
   ]
  }
 ],
 "metadata": {
  "kernelspec": {
   "display_name": "Python 3",
   "language": "python",
   "name": "python3"
  },
  "language_info": {
   "codemirror_mode": {
    "name": "ipython",
    "version": 3
   },
   "file_extension": ".py",
   "mimetype": "text/x-python",
   "name": "python",
   "nbconvert_exporter": "python",
   "pygments_lexer": "ipython3",
   "version": "3.6.5"
  }
 },
 "nbformat": 4,
 "nbformat_minor": 2
}
