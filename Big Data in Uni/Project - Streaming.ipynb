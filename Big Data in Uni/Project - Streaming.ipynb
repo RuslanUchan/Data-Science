{
 "cells": [
  {
   "cell_type": "code",
   "execution_count": null,
   "metadata": {},
   "outputs": [],
   "source": [
    "from pymongo import MongoClient\n",
    "import json\n",
    "import ipywidgets as wgt\n",
    "from IPython.display import display\n",
    "import pandas as pd\n",
    "from datetime import datetime\n",
    "import matplotlib.pyplot as plt\n",
    "\n",
    "%matplotlib inline"
   ]
  },
  {
   "cell_type": "code",
   "execution_count": null,
   "metadata": {},
   "outputs": [],
   "source": [
    "import tweepy\n",
    "\n",
    "api_key = \"6gbFz4BxVfJo1gCOBWrUIMsWg\" # <---- Add your API Key\n",
    "api_secret = \"rw9B4CSQpyNF13vgDNS9D7ahXohexkoyWnqOBKxqi55n7z6PCR\" # <---- Add your API Secret\n",
    "access_token = \"764000256258211843-MyKIzwUTpKJVsWNObQesqmPeF5JcnGt\" # <---- Add your access token\n",
    "access_token_secret = \"OiGqWVmXLPkChPk0A3S0QHGCPbviK793p8T30uxAWj6Q1\" # <---- Add your access token secret\n",
    "\n",
    "auth = tweepy.OAuthHandler(api_key, api_secret)\n",
    "auth.set_access_token(access_token, access_token_secret)\n",
    "\n",
    "api = tweepy.API(auth)"
   ]
  },
  {
   "cell_type": "code",
   "execution_count": null,
   "metadata": {},
   "outputs": [],
   "source": [
    "# Connect to MongoDB locally with database named 'project-bigdata'\n",
    "MONGO_HOST = 'mongodb://localhost/projectbigdata'"
   ]
  },
  {
   "cell_type": "code",
   "execution_count": null,
   "metadata": {},
   "outputs": [],
   "source": [
    "class MyStreamListener(tweepy.StreamListener):\n",
    "    '''\n",
    "    Listener class with progress visualization\n",
    "    '''\n",
    "    \n",
    "    counter = 0\n",
    "    \n",
    "    def __init__(self, max_tweets=10000, *args, **kwargs):\n",
    "        # Initialize the class with max tweets accepted 1000\n",
    "        self.max_tweets = max_tweets\n",
    "        self.counter = 0\n",
    "        super().__init__(*args, **kwargs)\n",
    "    \n",
    "    def on_connect(self):\n",
    "        # Called initially to connect to the streaming API\n",
    "        self.counter = 0\n",
    "        self.start_time = datetime.now()\n",
    "    \n",
    "    def on_data(self, data):\n",
    "        # Connects to MongoDB and store the tweets\n",
    "        \n",
    "        try:\n",
    "            client = MongoClient(MONGO_HOST)\n",
    "            \n",
    "            # Use project-bigdata database\n",
    "            db = client.projectbigdata\n",
    "            \n",
    "            # Decode the JSON from Twitter\n",
    "            datajson = json.loads(data)\n",
    "            \n",
    "            # Insert the data into the MongoDB into a collection called blockchain-tweets\n",
    "            db.bitcointweets.insert(datajson)\n",
    "            \n",
    "            # Increment counter everytime new data arrives\n",
    "            self.counter += 1\n",
    "            \n",
    "            # Visualization of progress\n",
    "            if self.counter % 1 == 0:\n",
    "                value = int(100.00 * self.counter / self.max_tweets)\n",
    "                mining_time = datetime.now() - self.start_time\n",
    "                progress_bar.value = value\n",
    "                html_value = \"\"\"<span class=\"label label-primary\">Tweets/Sec: %.1f</span>\"\"\" % (self.counter / max([1,mining_time.seconds]))\n",
    "                html_value += \"\"\" <span class=\"label label-success\">Progress: %.1f%%</span>\"\"\" % (self.counter / self.max_tweets * 100.0)\n",
    "                html_value += \"\"\" <span class=\"label label-info\">ETA: %.1f Sec</span>\"\"\" % ((self.max_tweets - self.counter) / (self.counter / max([1,mining_time.seconds])))\n",
    "                wgt_status.value = html_value\n",
    "                #print(\"%s/%s\" % (self.counter, self.max_tweets))\n",
    "                if self.counter >= self.max_tweets:\n",
    "                    myStream.disconnect()\n",
    "                    print(\"Finished\")\n",
    "                    print(\"Total Mining Time: %s\" % (mining_time))\n",
    "                    print(\"Tweets/Sec: %.1f\" % (self.max_tweets / mining_time.seconds))\n",
    "                    progress_bar.value = 0\n",
    "        \n",
    "        except Exception as e:\n",
    "            print(e)"
   ]
  },
  {
   "cell_type": "code",
   "execution_count": null,
   "metadata": {},
   "outputs": [],
   "source": [
    "# The actual listener \n",
    "myStreamListener = MyStreamListener(max_tweets=10000)\n",
    "myStream = tweepy.Stream(auth = api.auth, listener=myStreamListener)"
   ]
  },
  {
   "cell_type": "code",
   "execution_count": null,
   "metadata": {
    "scrolled": true
   },
   "outputs": [],
   "source": [
    "col = MongoClient()[\"projectbigdata\"][\"bitcointweets\"]\n",
    "col.count()"
   ]
  },
  {
   "cell_type": "code",
   "execution_count": null,
   "metadata": {},
   "outputs": [],
   "source": [
    "keywords = [\"Bitcoin\"]\n",
    "\n",
    "# Visualize a progress bar to track progress\n",
    "progress_bar = wgt.IntProgress(value=0)\n",
    "display(progress_bar)\n",
    "wgt_status = wgt.HTML(value=\"\"\"<span class=\"label label-primary\">Tweets/Sec: 0.0</span>\"\"\")\n",
    "display(wgt_status)\n",
    "\n",
    "# Start a filter with an error counter of 20\n",
    "for error_counter in range(10):\n",
    "    try:\n",
    "        myStream.filter(track=keywords)\n",
    "        print(\"Tweets collected: %s\" % myStream.listener.counter)\n",
    "        print(\"Total tweets in collection: %s\" % col.count())\n",
    "        break\n",
    "    except:\n",
    "        print(\"ERROR# %s\" % (error_counter + 1))"
   ]
  },
  {
   "cell_type": "code",
   "execution_count": null,
   "metadata": {},
   "outputs": [],
   "source": [
    "col.find_one()"
   ]
  },
  {
   "cell_type": "code",
   "execution_count": null,
   "metadata": {},
   "outputs": [],
   "source": [
    "import pandas as pd \n",
    "\n",
    "#loading data ke data frame\n",
    "\n",
    "data = pd.DataFrame()\n",
    "data[\"text\"] = list(map(lambda tweet: tweet['text'], tweets_data))\n",
    "data['lang'] = list(map(lambda tweet: tweet['lang'], tweets_data))\n",
    "data['created_at'] = list(map(lambda tweet: tweet['created_at'], tweets_data))\n",
    "data['country'] = list(map(lambda tweet: tweet['place']['country'] if tweet['place'] != None else None, tweets_data))"
   ]
  },
  {
   "cell_type": "code",
   "execution_count": null,
   "metadata": {},
   "outputs": [],
   "source": [
    "print (\"Jumlah Data Tweets: \", len(data))"
   ]
  },
  {
   "cell_type": "code",
   "execution_count": null,
   "metadata": {},
   "outputs": [],
   "source": [
    "data.head()"
   ]
  },
  {
   "cell_type": "code",
   "execution_count": null,
   "metadata": {},
   "outputs": [],
   "source": [
    "data.tail()"
   ]
  },
  {
   "cell_type": "code",
   "execution_count": null,
   "metadata": {},
   "outputs": [],
   "source": [
    "data['text'][0]"
   ]
  }
 ],
 "metadata": {
  "kernelspec": {
   "display_name": "Python 3",
   "language": "python",
   "name": "python3"
  },
  "language_info": {
   "codemirror_mode": {
    "name": "ipython",
    "version": 3
   },
   "file_extension": ".py",
   "mimetype": "text/x-python",
   "name": "python",
   "nbconvert_exporter": "python",
   "pygments_lexer": "ipython3",
   "version": "3.6.5"
  }
 },
 "nbformat": 4,
 "nbformat_minor": 2
}
