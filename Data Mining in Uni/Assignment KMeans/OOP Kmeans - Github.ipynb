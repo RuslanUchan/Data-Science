{
 "cells": [
  {
   "cell_type": "markdown",
   "metadata": {},
   "source": [
    "### OOP Kmeans\n",
    "\n",
    "**Input - Output**\n",
    "10 Feature\n",
    "F1 - F10 := Dataset, Dataset type: Panel Data\n",
    "\n",
    "**Process**\n",
    "1. Import libraries needed\n",
    "2. Load the dataset\n",
    "3. Check the dataset (head, tail, length)\n",
    "4. Decide on the feature\n",
    "5. Make instance from KmeansImplementation class\n",
    "\n",
    "**OOP Implementation**\n",
    "*Method*\n",
    "1. Init\n",
    "2. Str\n",
    "3. Zip Feature\n",
    "4. Visualize Dataset\n",
    "5. Calculate Elbow\n",
    "6. Visualize Elbow\n",
    "7. Fit into Kmeans\n",
    "8. Show Kmeans\n",
    "9. Predict New Datapoints\n",
    "\n",
    "**OOP Process**\n",
    "1. zipFeature\n",
    "2. vizItems\n",
    "3. calculateDistortion\n",
    "4. vizDistortion: get K (best clusters)\n",
    "5. fitKmeans\n",
    "6. vizKmeans\n",
    "7. labelDatapoints\n"
   ]
  },
  {
   "cell_type": "markdown",
   "metadata": {},
   "source": [
    "Import libraries needed,\n",
    "\n",
    "Pandas: Panel Data \n",
    "Numpy: Hold the main role to calculate arrays\n",
    "Cdist: Used to calculate euclidean distance\n",
    "Matplotlib: Visualization \n",
    "Kmeans: Collection of function to apply Kmeans algorithm\n",
    "\n",
    "InteractiveShell and magic matplotlib to make visualization easier in notebook"
   ]
  },
  {
   "cell_type": "code",
   "execution_count": 1,
   "metadata": {},
   "outputs": [],
   "source": [
    "# Import libraries needed\n",
    "\n",
    "import pandas as pd\n",
    "import numpy as np\n",
    "from scipy.spatial.distance import cdist\n",
    "import matplotlib\n",
    "import matplotlib.pyplot as plt\n",
    "from sklearn.cluster import KMeans\n",
    "#from sklearn import metrics\n",
    "% matplotlib inline\n",
    "\n",
    "# Interactive Jupyter\n",
    "from IPython.core.interactiveshell import InteractiveShell\n",
    "InteractiveShell.ast_node_interactivity = \"all\""
   ]
  },
  {
   "cell_type": "markdown",
   "metadata": {},
   "source": [
    "Load the dataset with latin encoding (it is error otherwise, don't know why)"
   ]
  },
  {
   "cell_type": "code",
   "execution_count": 2,
   "metadata": {},
   "outputs": [],
   "source": [
    "# Loads the dataset\n",
    "\n",
    "ds = pd.read_csv('customers.csv', encoding='latin1')"
   ]
  },
  {
   "cell_type": "markdown",
   "metadata": {},
   "source": [
    "### Some notes about the values\n",
    "**Marital Status:** 0 -> Married ; 1 -> Divorced\n",
    "\n",
    " **Gender:** 0 -> Male ; 1 -> Female\n",
    "\n",
    "**Education:** 1 -> Junior High ; 2 -> Senior High ; 3 -> Bachelor ; 4 -> Master ; 5 -> PhD\n",
    "\n",
    "**Occupation:** 1 -> Employees ; 2 -> ; 3 -> ; 4 -> ; 5 -> "
   ]
  },
  {
   "cell_type": "code",
   "execution_count": 3,
   "metadata": {},
   "outputs": [
    {
     "data": {
      "text/html": [
       "<div>\n",
       "<style scoped>\n",
       "    .dataframe tbody tr th:only-of-type {\n",
       "        vertical-align: middle;\n",
       "    }\n",
       "\n",
       "    .dataframe tbody tr th {\n",
       "        vertical-align: top;\n",
       "    }\n",
       "\n",
       "    .dataframe thead th {\n",
       "        text-align: right;\n",
       "    }\n",
       "</style>\n",
       "<table border=\"1\" class=\"dataframe\">\n",
       "  <thead>\n",
       "    <tr style=\"text-align: right;\">\n",
       "      <th></th>\n",
       "      <th>Education</th>\n",
       "      <th>Gender</th>\n",
       "      <th>Marital Status</th>\n",
       "      <th>Occupation</th>\n",
       "    </tr>\n",
       "  </thead>\n",
       "  <tbody>\n",
       "    <tr>\n",
       "      <th>0</th>\n",
       "      <td>-</td>\n",
       "      <td>Male</td>\n",
       "      <td>Married</td>\n",
       "      <td>-</td>\n",
       "    </tr>\n",
       "    <tr>\n",
       "      <th>1</th>\n",
       "      <td>Junior High</td>\n",
       "      <td>Female</td>\n",
       "      <td>Divorced</td>\n",
       "      <td>Employees</td>\n",
       "    </tr>\n",
       "    <tr>\n",
       "      <th>2</th>\n",
       "      <td>Senior High</td>\n",
       "      <td>-</td>\n",
       "      <td>-</td>\n",
       "      <td>2</td>\n",
       "    </tr>\n",
       "    <tr>\n",
       "      <th>3</th>\n",
       "      <td>Bachelor</td>\n",
       "      <td>-</td>\n",
       "      <td>-</td>\n",
       "      <td>3</td>\n",
       "    </tr>\n",
       "    <tr>\n",
       "      <th>4</th>\n",
       "      <td>Master</td>\n",
       "      <td>-</td>\n",
       "      <td>-</td>\n",
       "      <td>4</td>\n",
       "    </tr>\n",
       "    <tr>\n",
       "      <th>5</th>\n",
       "      <td>PhD</td>\n",
       "      <td>-</td>\n",
       "      <td>-</td>\n",
       "      <td>5</td>\n",
       "    </tr>\n",
       "  </tbody>\n",
       "</table>\n",
       "</div>"
      ],
      "text/plain": [
       "     Education  Gender Marital Status Occupation\n",
       "0            -    Male        Married          -\n",
       "1  Junior High  Female       Divorced  Employees\n",
       "2  Senior High       -              -          2\n",
       "3     Bachelor       -              -          3\n",
       "4       Master       -              -          4\n",
       "5          PhD       -              -          5"
      ]
     },
     "metadata": {},
     "output_type": "display_data"
    }
   ],
   "source": [
    "# Some info tables\n",
    "\n",
    "info = {'Marital Status': ['Married', 'Divorced', '-', '-', '-', '-'], \n",
    "        'Gender': ['Male', 'Female', '-', '-', '-', '-'],\n",
    "       'Education': ['-', 'Junior High', 'Senior High', 'Bachelor', 'Master', 'PhD'],\n",
    "       'Occupation': ['-', 'Employees', 2, 3, 4, 5]}\n",
    "\n",
    "ds_info = pd.DataFrame(info)\n",
    "\n",
    "display(ds_info)"
   ]
  },
  {
   "cell_type": "markdown",
   "metadata": {},
   "source": [
    "**Check Head**\n",
    "\n",
    "See our data list"
   ]
  },
  {
   "cell_type": "code",
   "execution_count": 4,
   "metadata": {},
   "outputs": [
    {
     "data": {
      "text/html": [
       "<div>\n",
       "<style scoped>\n",
       "    .dataframe tbody tr th:only-of-type {\n",
       "        vertical-align: middle;\n",
       "    }\n",
       "\n",
       "    .dataframe tbody tr th {\n",
       "        vertical-align: top;\n",
       "    }\n",
       "\n",
       "    .dataframe thead th {\n",
       "        text-align: right;\n",
       "    }\n",
       "</style>\n",
       "<table border=\"1\" class=\"dataframe\">\n",
       "  <thead>\n",
       "    <tr style=\"text-align: right;\">\n",
       "      <th></th>\n",
       "      <th>CustomerName</th>\n",
       "      <th>Age</th>\n",
       "      <th>MaritalStatus</th>\n",
       "      <th>IncomeRange</th>\n",
       "      <th>Gender</th>\n",
       "      <th>TotalChildren</th>\n",
       "      <th>ChildrenAtHome</th>\n",
       "      <th>Education</th>\n",
       "      <th>Occupation</th>\n",
       "      <th>HomeOwner</th>\n",
       "      <th>Cars</th>\n",
       "    </tr>\n",
       "  </thead>\n",
       "  <tbody>\n",
       "    <tr>\n",
       "      <th>0</th>\n",
       "      <td>Aaron Adams</td>\n",
       "      <td>42</td>\n",
       "      <td>0</td>\n",
       "      <td>50000</td>\n",
       "      <td>0</td>\n",
       "      <td>0</td>\n",
       "      <td>0</td>\n",
       "      <td>3</td>\n",
       "      <td>2</td>\n",
       "      <td>1</td>\n",
       "      <td>1</td>\n",
       "    </tr>\n",
       "    <tr>\n",
       "      <th>1</th>\n",
       "      <td>Aaron Alexander</td>\n",
       "      <td>40</td>\n",
       "      <td>1</td>\n",
       "      <td>50000</td>\n",
       "      <td>0</td>\n",
       "      <td>0</td>\n",
       "      <td>0</td>\n",
       "      <td>2</td>\n",
       "      <td>2</td>\n",
       "      <td>1</td>\n",
       "      <td>2</td>\n",
       "    </tr>\n",
       "    <tr>\n",
       "      <th>2</th>\n",
       "      <td>Aaron Allen</td>\n",
       "      <td>63</td>\n",
       "      <td>0</td>\n",
       "      <td>25000</td>\n",
       "      <td>0</td>\n",
       "      <td>2</td>\n",
       "      <td>1</td>\n",
       "      <td>2</td>\n",
       "      <td>1</td>\n",
       "      <td>1</td>\n",
       "      <td>2</td>\n",
       "    </tr>\n",
       "    <tr>\n",
       "      <th>3</th>\n",
       "      <td>Aaron Baker</td>\n",
       "      <td>56</td>\n",
       "      <td>1</td>\n",
       "      <td>50000</td>\n",
       "      <td>0</td>\n",
       "      <td>4</td>\n",
       "      <td>2</td>\n",
       "      <td>2</td>\n",
       "      <td>2</td>\n",
       "      <td>1</td>\n",
       "      <td>2</td>\n",
       "    </tr>\n",
       "    <tr>\n",
       "      <th>4</th>\n",
       "      <td>Aaron Bryant</td>\n",
       "      <td>72</td>\n",
       "      <td>0</td>\n",
       "      <td>75000</td>\n",
       "      <td>0</td>\n",
       "      <td>4</td>\n",
       "      <td>0</td>\n",
       "      <td>4</td>\n",
       "      <td>4</td>\n",
       "      <td>1</td>\n",
       "      <td>2</td>\n",
       "    </tr>\n",
       "  </tbody>\n",
       "</table>\n",
       "</div>"
      ],
      "text/plain": [
       "      CustomerName  Age  MaritalStatus  IncomeRange  Gender  TotalChildren  \\\n",
       "0      Aaron Adams   42              0        50000       0              0   \n",
       "1  Aaron Alexander   40              1        50000       0              0   \n",
       "2      Aaron Allen   63              0        25000       0              2   \n",
       "3      Aaron Baker   56              1        50000       0              4   \n",
       "4     Aaron Bryant   72              0        75000       0              4   \n",
       "\n",
       "   ChildrenAtHome  Education  Occupation  HomeOwner  Cars  \n",
       "0               0          3           2          1     1  \n",
       "1               0          2           2          1     2  \n",
       "2               1          2           1          1     2  \n",
       "3               2          2           2          1     2  \n",
       "4               0          4           4          1     2  "
      ]
     },
     "execution_count": 4,
     "metadata": {},
     "output_type": "execute_result"
    }
   ],
   "source": [
    "# Test print dataset head\n",
    "\n",
    "ds.head()"
   ]
  },
  {
   "cell_type": "markdown",
   "metadata": {},
   "source": [
    "**Check Tail**"
   ]
  },
  {
   "cell_type": "code",
   "execution_count": 5,
   "metadata": {},
   "outputs": [
    {
     "data": {
      "text/html": [
       "<div>\n",
       "<style scoped>\n",
       "    .dataframe tbody tr th:only-of-type {\n",
       "        vertical-align: middle;\n",
       "    }\n",
       "\n",
       "    .dataframe tbody tr th {\n",
       "        vertical-align: top;\n",
       "    }\n",
       "\n",
       "    .dataframe thead th {\n",
       "        text-align: right;\n",
       "    }\n",
       "</style>\n",
       "<table border=\"1\" class=\"dataframe\">\n",
       "  <thead>\n",
       "    <tr style=\"text-align: right;\">\n",
       "      <th></th>\n",
       "      <th>CustomerName</th>\n",
       "      <th>Age</th>\n",
       "      <th>MaritalStatus</th>\n",
       "      <th>IncomeRange</th>\n",
       "      <th>Gender</th>\n",
       "      <th>TotalChildren</th>\n",
       "      <th>ChildrenAtHome</th>\n",
       "      <th>Education</th>\n",
       "      <th>Occupation</th>\n",
       "      <th>HomeOwner</th>\n",
       "      <th>Cars</th>\n",
       "    </tr>\n",
       "  </thead>\n",
       "  <tbody>\n",
       "    <tr>\n",
       "      <th>18503</th>\n",
       "      <td>Zoe Rogers</td>\n",
       "      <td>50</td>\n",
       "      <td>0</td>\n",
       "      <td>100000</td>\n",
       "      <td>1</td>\n",
       "      <td>0</td>\n",
       "      <td>0</td>\n",
       "      <td>5</td>\n",
       "      <td>2</td>\n",
       "      <td>0</td>\n",
       "      <td>0</td>\n",
       "    </tr>\n",
       "    <tr>\n",
       "      <th>18504</th>\n",
       "      <td>Zoe Sanchez</td>\n",
       "      <td>68</td>\n",
       "      <td>0</td>\n",
       "      <td>75000</td>\n",
       "      <td>1</td>\n",
       "      <td>2</td>\n",
       "      <td>1</td>\n",
       "      <td>3</td>\n",
       "      <td>5</td>\n",
       "      <td>1</td>\n",
       "      <td>1</td>\n",
       "    </tr>\n",
       "    <tr>\n",
       "      <th>18505</th>\n",
       "      <td>Zoe Sanders</td>\n",
       "      <td>51</td>\n",
       "      <td>1</td>\n",
       "      <td>50000</td>\n",
       "      <td>1</td>\n",
       "      <td>3</td>\n",
       "      <td>3</td>\n",
       "      <td>4</td>\n",
       "      <td>2</td>\n",
       "      <td>1</td>\n",
       "      <td>2</td>\n",
       "    </tr>\n",
       "    <tr>\n",
       "      <th>18506</th>\n",
       "      <td>Zoe Torres</td>\n",
       "      <td>60</td>\n",
       "      <td>1</td>\n",
       "      <td>50000</td>\n",
       "      <td>1</td>\n",
       "      <td>2</td>\n",
       "      <td>0</td>\n",
       "      <td>2</td>\n",
       "      <td>2</td>\n",
       "      <td>1</td>\n",
       "      <td>2</td>\n",
       "    </tr>\n",
       "    <tr>\n",
       "      <th>18507</th>\n",
       "      <td>Zoe Watson</td>\n",
       "      <td>66</td>\n",
       "      <td>1</td>\n",
       "      <td>75000</td>\n",
       "      <td>1</td>\n",
       "      <td>4</td>\n",
       "      <td>2</td>\n",
       "      <td>3</td>\n",
       "      <td>5</td>\n",
       "      <td>1</td>\n",
       "      <td>1</td>\n",
       "    </tr>\n",
       "  </tbody>\n",
       "</table>\n",
       "</div>"
      ],
      "text/plain": [
       "      CustomerName  Age  MaritalStatus  IncomeRange  Gender  TotalChildren  \\\n",
       "18503   Zoe Rogers   50              0       100000       1              0   \n",
       "18504  Zoe Sanchez   68              0        75000       1              2   \n",
       "18505  Zoe Sanders   51              1        50000       1              3   \n",
       "18506   Zoe Torres   60              1        50000       1              2   \n",
       "18507   Zoe Watson   66              1        75000       1              4   \n",
       "\n",
       "       ChildrenAtHome  Education  Occupation  HomeOwner  Cars  \n",
       "18503               0          5           2          0     0  \n",
       "18504               1          3           5          1     1  \n",
       "18505               3          4           2          1     2  \n",
       "18506               0          2           2          1     2  \n",
       "18507               2          3           5          1     1  "
      ]
     },
     "execution_count": 5,
     "metadata": {},
     "output_type": "execute_result"
    }
   ],
   "source": [
    "# Test print dataset tail\n",
    "\n",
    "ds.tail()"
   ]
  },
  {
   "cell_type": "markdown",
   "metadata": {},
   "source": [
    "**Check Length**\n",
    "\n",
    "Get the gist of how much data there is. Even though you can actually see it in the tail index"
   ]
  },
  {
   "cell_type": "code",
   "execution_count": 6,
   "metadata": {},
   "outputs": [
    {
     "name": "stdout",
     "output_type": "stream",
     "text": [
      "Dataset length is 18508\n"
     ]
    }
   ],
   "source": [
    "# Test print dataset len\n",
    "\n",
    "print(f\"Dataset length is {len(ds)}\")"
   ]
  },
  {
   "cell_type": "markdown",
   "metadata": {},
   "source": [
    "Input feature data from Panel Data tables to feature variables\n",
    "\n",
    "We could somehow iterate through all the columns, it will be easier that way if there are >10 columns. But inputting it manually will actually makes it easier to track which feature we'd like to use"
   ]
  },
  {
   "cell_type": "code",
   "execution_count": 7,
   "metadata": {},
   "outputs": [
    {
     "data": {
      "text/plain": [
       "array([42, 40, 63, 56, 72], dtype=int64)"
      ]
     },
     "execution_count": 7,
     "metadata": {},
     "output_type": "execute_result"
    },
    {
     "data": {
      "text/plain": [
       "array([0, 1, 0, 1, 0], dtype=int64)"
      ]
     },
     "execution_count": 7,
     "metadata": {},
     "output_type": "execute_result"
    }
   ],
   "source": [
    "# Choose feature that we would like to use\n",
    "\n",
    "# Input the column name inside square brackets\n",
    "f1 = ds[\"Age\"].values\n",
    "f2 = ds[\"MaritalStatus\"].values\n",
    "f3 = ds[\"IncomeRange\"].values\n",
    "f4 = ds[\"Gender\"].values\n",
    "f5 = ds[\"TotalChildren\"].values\n",
    "f6 = ds[\"ChildrenAtHome\"].values\n",
    "f7 = ds[\"Education\"].values\n",
    "f8 = ds[\"Occupation\"].values\n",
    "f9 = ds[\"HomeOwner\"].values\n",
    "f10 = ds[\"Cars\"].values\n",
    "\n",
    "# Test print results\n",
    "f1[:5]\n",
    "f2[:5]"
   ]
  },
  {
   "cell_type": "markdown",
   "metadata": {},
   "source": [
    "Building the KmeansImplementation class"
   ]
  },
  {
   "cell_type": "code",
   "execution_count": 8,
   "metadata": {},
   "outputs": [],
   "source": [
    "# Let's build the class\n",
    "\n",
    "class KmeansImplementation:\n",
    "    \"\"\"\n",
    "    Implementation of Kmeans using OOP\n",
    "    \"\"\"\n",
    "    def __init__ (self, feature1, feature2):\n",
    "        '''Initialize 2 features to be processed'''\n",
    "        self.f1 = feature1\n",
    "        self.f2 = feature2\n",
    "        self.X = [] # Initialize empty list\n",
    "    \n",
    "    def __str__(self):\n",
    "        '''Print the values of 5 first data in the feature'''\n",
    "        #print(\"The First 5 Value of Feature 1:\", self.f1[:5])\n",
    "        #print(\"\\nThe First 5 Value of Feature 2:\", self.f2[:5])\n",
    "        return f\"The First 5 Value of Feature 1: {self.f1[:5]} \\nThe First 5 Value of Feature 2: {self.f2[:5]}\"\n",
    "    \n",
    "    def zipFeature(self):\n",
    "        \"\"\"Zip feature 1 and feature 2 into 1 ndarray\"\"\"\n",
    "        self.X = np.array(list(zip(self.f1, self.f2))).reshape(len(self.f1), 2)\n",
    "        return self.X\n",
    "    \n",
    "    def showItems(self):\n",
    "        '''Print the values of ndarray using view()'''\n",
    "        print(\"First Feature:\", self.f1.view(), \"\\nSecond Feature:\", self.f2.view())\n",
    "        if self.X != []:\n",
    "            print(\"\\nZipped Array:\", self.X.view())\n",
    "        else:\n",
    "            print(\"\\nZipped Array:\", self.X)\n",
    "    \n",
    "    def vizDataset(self):\n",
    "        \"\"\"Visualize feature 1 and feature 2 dataset with scatter plot\"\"\"\n",
    "        self.m1 = (max(self.f1) + min(self.f1)) // 5  # gets the value of mean to help centering the visualized item from dataset \n",
    "        self.m2 = (max(self.f2) + min(self.f2)) // 5 # the means is actually (min + max) // 5\n",
    "        plt.plot()\n",
    "        plt.xlim([(min(self.f1) - self.m1), (max(self.f1) + self.m1)])\n",
    "        plt.ylim([(min(self.f2) - self.m2), (max(self.f2) + self.m2)])\n",
    "        plt.title('Dataset')\n",
    "        plt.scatter(self.f1, self.f2)\n",
    "        plt.show()\n",
    "    \n",
    "    def calculateDistortion(self, K):\n",
    "        \"\"\"\n",
    "        Accept K as the last range of potential clusters such as range(1, K)\n",
    "        And then loop through the range() to search the elbow of the zipped feature\n",
    "        \"\"\"\n",
    "        # number of clusters inserted by user\n",
    "        self.K = range(1, K) \n",
    "        \n",
    "        # Initialize empty list to store distortions' result for each iteration of K\n",
    "        self.distortions = []\n",
    "        for k in self.K:\n",
    "            \"\"\"For potential clusters in range 1 to K\"\"\"\n",
    "            # Fit the model to Kmeans\n",
    "            kmeanModel = KMeans(n_clusters=k).fit(self.X)\n",
    "            \n",
    "            # Measure the distance with euclidean methods from datapoints to cluster centers\n",
    "            # Get the shortest distance from all the K cluster centers\n",
    "            # Adds up all the shortest distance and divide it with amount of samples to get the mean of the distortion\n",
    "            self.distortions.append(sum(np.min(cdist(self.X, kmeanModel.cluster_centers_, 'euclidean'), axis=1)) / self.X.shape[0])\n",
    "        \n",
    "        print(\"Calculations Done\")\n",
    "        return self.distortions\n",
    "        \n",
    "    def vizDistortion(self):\n",
    "        \"\"\"Visualize Distortion with plot\"\"\"\n",
    "        plt.plot(self.K, self.distortions, 'bo-')\n",
    "        plt.xlabel('Clusters Number')\n",
    "        plt.ylabel('Distortion')\n",
    "        plt.title('The Elbow Method showing optimal clusters')\n",
    "        plt.show()\n",
    "    \n",
    "    def fitKmeans(self, clusters):\n",
    "        \"\"\"Accept k, number of clusters (user input), with integer datatype as parameter and\"\"\"\n",
    "        self.c = clusters\n",
    "        self.fit_kmeans = KMeans(n_clusters = self.c).fit(self.X)\n",
    "        cc_frame = pd.DataFrame(self.fit_kmeans.cluster_centers_, columns = [\"Cluster Center X\", \"Cluster Center Y\"])\n",
    "        return cc_frame \n",
    "    \n",
    "    def vizKmeans(self):\n",
    "        \"\"\"Visualize Kmeans clusters with scatter\"\"\"\n",
    "        label = self.fit_kmeans.labels_\n",
    "        colors = [\"blue\", \"green\", \"cyan\", \"magenta\", \"yellow\", \"black\"]\n",
    "        \n",
    "        plt.figure(figsize=(10,8))\n",
    "        plt.title(\"Kmeans Clustering\")\n",
    "        plt.xlabel(\"First feature\")\n",
    "        plt.ylabel(\"Second feature\")\n",
    "        plt.xlim([(min(self.f1) - self.m1), (max(self.f1) + self.m1)])\n",
    "        plt.ylim([(min(self.f2) - self.m2), (max(self.f2) + self.m2)])\n",
    "        plt.scatter(self.X[:, 0], self.X[:, 1], marker='o', c = label, cmap=matplotlib.colors.ListedColormap(colors))\n",
    "        plt.scatter(self.fit_kmeans.cluster_centers_[:, 0], self.fit_kmeans.cluster_centers_[:,1], marker='x', c='r')\n",
    "        plt.show()\n",
    "        \n",
    "    def labelDatapoints(self, dp):\n",
    "        \"\"\"Accept datapoints with list datatype: [x, y] as parameter and give it labels\"\"\"\n",
    "        self.dp = dp\n",
    "        return self.fit_kmeans.predict([self.dp])"
   ]
  },
  {
   "cell_type": "markdown",
   "metadata": {},
   "source": [
    "Notes to be remembered \n",
    "\n",
    "1. **Feature 1**: Age\n",
    "2. **Feature 2**: MaritalStatus\n",
    "3. **Feature 3**: IncomeRange\n",
    "4. **Feature 4**: Gender\n",
    "5. **Feature 5**: TotalChildren\n",
    "\n",
    "6. **Feature 6**: ChildrenAtHome\n",
    "7. **Feature 7**: Education\n",
    "8. **Feature 8**: Occupation\n",
    "9. **Feature 9**: HomeOwner\n",
    "10. **Feature 10**: Cars"
   ]
  },
  {
   "cell_type": "markdown",
   "metadata": {},
   "source": [
    "**First**\n",
    "\n",
    "We'd like to see how Age brings effect to people's Income Range"
   ]
  },
  {
   "cell_type": "markdown",
   "metadata": {},
   "source": [
    "Make instance and pass feature values to the class"
   ]
  },
  {
   "cell_type": "code",
   "execution_count": 9,
   "metadata": {},
   "outputs": [
    {
     "data": {
      "text/plain": [
       "<__main__.KmeansImplementation at 0x1958e6c15f8>"
      ]
     },
     "execution_count": 9,
     "metadata": {},
     "output_type": "execute_result"
    },
    {
     "name": "stdout",
     "output_type": "stream",
     "text": [
      "The First 5 Value of Feature 1: [42 40 63 56 72] \n",
      "The First 5 Value of Feature 2: [50000 50000 25000 50000 75000]\n"
     ]
    }
   ],
   "source": [
    "# Initialize a class\n",
    "\n",
    "first = KmeansImplementation(f1, f3)\n",
    "first\n",
    "print(first)"
   ]
  },
  {
   "cell_type": "markdown",
   "metadata": {},
   "source": [
    "Show the values inside the class"
   ]
  },
  {
   "cell_type": "code",
   "execution_count": 10,
   "metadata": {
    "scrolled": true
   },
   "outputs": [
    {
     "name": "stdout",
     "output_type": "stream",
     "text": [
      "First Feature: [42 40 63 ... 51 60 66] \n",
      "Second Feature: [50000 50000 25000 ... 50000 50000 75000]\n",
      "\n",
      "Zipped Array: []\n"
     ]
    }
   ],
   "source": [
    "# Show items with __str__\n",
    "\n",
    "first.showItems()"
   ]
  },
  {
   "cell_type": "markdown",
   "metadata": {},
   "source": [
    "Zip the values into 1 ndarray"
   ]
  },
  {
   "cell_type": "code",
   "execution_count": 11,
   "metadata": {
    "scrolled": true
   },
   "outputs": [
    {
     "data": {
      "text/plain": [
       "array([[   42, 50000],\n",
       "       [   40, 50000],\n",
       "       [   63, 25000],\n",
       "       ...,\n",
       "       [   51, 50000],\n",
       "       [   60, 50000],\n",
       "       [   66, 75000]], dtype=int64)"
      ]
     },
     "execution_count": 11,
     "metadata": {},
     "output_type": "execute_result"
    }
   ],
   "source": [
    "# Zip feature into ndarray\n",
    "\n",
    "first.zipFeature()"
   ]
  },
  {
   "cell_type": "code",
   "execution_count": 12,
   "metadata": {},
   "outputs": [
    {
     "data": {
      "image/png": "[encoded data removed]",
      "text/plain": [
       "<Figure size 432x288 with 1 Axes>"
      ]
     },
     "metadata": {},
     "output_type": "display_data"
    }
   ],
   "source": [
    "# Visualize dataset\n",
    "\n",
    "first.vizDataset()"
   ]
  },
  {
   "cell_type": "markdown",
   "metadata": {},
   "source": [
    "Get the gist of how the dataset looks like before we run any clustering on it"
   ]
  },
  {
   "cell_type": "markdown",
   "metadata": {},
   "source": [
    "Calculate the distortion of 10 clusters.\n",
    "\n",
    "The number of how much clusters could be tried actually is up to the user. And from the visualization of the dataset above, we somehow actually get the idea of how much cluster there might be for the data (or maybe now, if the data more variety of the data)"
   ]
  },
  {
   "cell_type": "code",
   "execution_count": 13,
   "metadata": {},
   "outputs": [
    {
     "name": "stdout",
     "output_type": "stream",
     "text": [
      "Calculations Done\n"
     ]
    },
    {
     "data": {
      "text/plain": [
       "[26292.15784558461,\n",
       " 17659.725698802482,\n",
       " 10185.425339401478,\n",
       " 4967.379134476677,\n",
       " 8.979781369970226,\n",
       " 7.610125650166909,\n",
       " 6.549450892711249,\n",
       " 5.766413096531202,\n",
       " 5.377656281716652]"
      ]
     },
     "execution_count": 13,
     "metadata": {},
     "output_type": "execute_result"
    }
   ],
   "source": [
    "# Calculate Elbow\n",
    "\n",
    "first.calculateDistortion(10)"
   ]
  },
  {
   "cell_type": "markdown",
   "metadata": {},
   "source": [
    "Visualizing the Elbow Method.\n",
    "\n",
    "We actually need to see where the 'elbow' is located. Elbow is the place where the 'big change' of means ends. It means that after the elbow (or if we add more clusters, we could say), there's no substantial of change in the means (or any change is so little it can be disregarded)"
   ]
  },
  {
   "cell_type": "code",
   "execution_count": 14,
   "metadata": {},
   "outputs": [
    {
     "data": {
      "image/png": "[encoded data removed]",
      "text/plain": [
       "<Figure size 432x288 with 1 Axes>"
      ]
     },
     "metadata": {},
     "output_type": "display_data"
    }
   ],
   "source": [
    "# Visualize Elbow\n",
    "\n",
    "first.vizDistortion()"
   ]
  },
  {
   "cell_type": "markdown",
   "metadata": {},
   "source": [
    "The coordinate of the cluster centers.\n",
    "\n",
    "It is labeled at random from the scikit-learn module (maybe?). Some more improvement could be made to actually make it obvious which clusters have which labels."
   ]
  },
  {
   "cell_type": "code",
   "execution_count": 15,
   "metadata": {},
   "outputs": [
    {
     "data": {
      "text/html": [
       "<div>\n",
       "<style scoped>\n",
       "    .dataframe tbody tr th:only-of-type {\n",
       "        vertical-align: middle;\n",
       "    }\n",
       "\n",
       "    .dataframe tbody tr th {\n",
       "        vertical-align: top;\n",
       "    }\n",
       "\n",
       "    .dataframe thead th {\n",
       "        text-align: right;\n",
       "    }\n",
       "</style>\n",
       "<table border=\"1\" class=\"dataframe\">\n",
       "  <thead>\n",
       "    <tr style=\"text-align: right;\">\n",
       "      <th></th>\n",
       "      <th>Cluster Center X</th>\n",
       "      <th>Cluster Center Y</th>\n",
       "    </tr>\n",
       "  </thead>\n",
       "  <tbody>\n",
       "    <tr>\n",
       "      <th>0</th>\n",
       "      <td>56.071129</td>\n",
       "      <td>75000.0</td>\n",
       "    </tr>\n",
       "    <tr>\n",
       "      <th>1</th>\n",
       "      <td>58.279484</td>\n",
       "      <td>150000.0</td>\n",
       "    </tr>\n",
       "    <tr>\n",
       "      <th>2</th>\n",
       "      <td>51.973744</td>\n",
       "      <td>50000.0</td>\n",
       "    </tr>\n",
       "    <tr>\n",
       "      <th>3</th>\n",
       "      <td>53.101300</td>\n",
       "      <td>25000.0</td>\n",
       "    </tr>\n",
       "    <tr>\n",
       "      <th>4</th>\n",
       "      <td>55.341781</td>\n",
       "      <td>100000.0</td>\n",
       "    </tr>\n",
       "  </tbody>\n",
       "</table>\n",
       "</div>"
      ],
      "text/plain": [
       "   Cluster Center X  Cluster Center Y\n",
       "0         56.071129           75000.0\n",
       "1         58.279484          150000.0\n",
       "2         51.973744           50000.0\n",
       "3         53.101300           25000.0\n",
       "4         55.341781          100000.0"
      ]
     },
     "execution_count": 15,
     "metadata": {},
     "output_type": "execute_result"
    }
   ],
   "source": [
    "# Fit data to Kmeans\n",
    "\n",
    "first.fitKmeans(5)"
   ]
  },
  {
   "cell_type": "code",
   "execution_count": 16,
   "metadata": {},
   "outputs": [
    {
     "data": {
      "image/png": "[encoded data removed]",
      "text/plain": [
       "<Figure size 720x576 with 1 Axes>"
      ]
     },
     "metadata": {},
     "output_type": "display_data"
    }
   ],
   "source": [
    "# Visualize Kmeans: Get centroids\n",
    "\n",
    "first.vizKmeans()"
   ]
  },
  {
   "cell_type": "markdown",
   "metadata": {},
   "source": [
    "First Feature is Age, and Second Feature is Income Range. (need to add legends to that, improvements noted)\n",
    "\n",
    "From the data, we can derive that:\n",
    "1. No one earned 150k before 40 yo. We can see from the left tip of top data pack.\n",
    "2. For every 90+ yo people, they didn't earn more than 50k. We can see that from the right tip of 75k ~ 150k data pack.\n",
    "3. From the cluster centers data, we could also conclude that the average of customers age is 50 yo. From the visualization, we could see that by how the cluster is located between 40 ~ 60 yo"
   ]
  },
  {
   "cell_type": "markdown",
   "metadata": {},
   "source": [
    "Below is  the test to label new datapoints (or new customers data)"
   ]
  },
  {
   "cell_type": "code",
   "execution_count": 17,
   "metadata": {},
   "outputs": [
    {
     "data": {
      "text/plain": [
       "array([0])"
      ]
     },
     "execution_count": 17,
     "metadata": {},
     "output_type": "execute_result"
    }
   ],
   "source": [
    "# Label new datapoints\n",
    "# Insert values to x\n",
    "\n",
    "# q is 40 years old with 75000 income\n",
    "q = [40, 75000]\n",
    "first.labelDatapoints(q)"
   ]
  },
  {
   "cell_type": "markdown",
   "metadata": {},
   "source": [
    "**Second**\n",
    "\n",
    "We'd like to see how Occupation affects Income Range\n",
    "\n",
    "*note: the rest of the implementation below are repetitive from the first implementation. So, you could skip (or skim) through it and jump right to the visualization*"
   ]
  },
  {
   "cell_type": "code",
   "execution_count": 18,
   "metadata": {},
   "outputs": [
    {
     "data": {
      "text/plain": [
       "<__main__.KmeansImplementation at 0x1958edf1c50>"
      ]
     },
     "execution_count": 18,
     "metadata": {},
     "output_type": "execute_result"
    },
    {
     "name": "stdout",
     "output_type": "stream",
     "text": [
      "The First 5 Value of Feature 1: [2 2 1 2 4] \n",
      "The First 5 Value of Feature 2: [50000 50000 25000 50000 75000]\n"
     ]
    }
   ],
   "source": [
    "second = KmeansImplementation(f8, f3)\n",
    "second\n",
    "print(second)"
   ]
  },
  {
   "cell_type": "code",
   "execution_count": 19,
   "metadata": {},
   "outputs": [
    {
     "name": "stdout",
     "output_type": "stream",
     "text": [
      "First Feature: [2 2 1 ... 2 2 5] \n",
      "Second Feature: [50000 50000 25000 ... 50000 50000 75000]\n",
      "\n",
      "Zipped Array: []\n"
     ]
    }
   ],
   "source": [
    "second.showItems()"
   ]
  },
  {
   "cell_type": "code",
   "execution_count": 20,
   "metadata": {
    "scrolled": false
   },
   "outputs": [
    {
     "data": {
      "image/png": "[encoded data removed]",
      "text/plain": [
       "<Figure size 432x288 with 1 Axes>"
      ]
     },
     "metadata": {},
     "output_type": "display_data"
    }
   ],
   "source": [
    "second.vizDataset()"
   ]
  },
  {
   "cell_type": "code",
   "execution_count": 21,
   "metadata": {},
   "outputs": [
    {
     "data": {
      "text/plain": [
       "array([[    2, 50000],\n",
       "       [    2, 50000],\n",
       "       [    1, 25000],\n",
       "       ...,\n",
       "       [    2, 50000],\n",
       "       [    2, 50000],\n",
       "       [    5, 75000]], dtype=int64)"
      ]
     },
     "execution_count": 21,
     "metadata": {},
     "output_type": "execute_result"
    }
   ],
   "source": [
    "second.zipFeature()"
   ]
  },
  {
   "cell_type": "code",
   "execution_count": 22,
   "metadata": {},
   "outputs": [
    {
     "name": "stdout",
     "output_type": "stream",
     "text": [
      "Calculations Done\n"
     ]
    },
    {
     "data": {
      "text/plain": [
       "[26292.153158860787,\n",
       " 17659.719059171322,\n",
       " 10184.76747764575,\n",
       " 4962.4381998889,\n",
       " 0.8537513180622531,\n",
       " 0.5761065905878616,\n",
       " 0.5032675431185419,\n",
       " 0.43904632456649406,\n",
       " 0.31657023810898993]"
      ]
     },
     "execution_count": 22,
     "metadata": {},
     "output_type": "execute_result"
    }
   ],
   "source": [
    "second.calculateDistortion(10)"
   ]
  },
  {
   "cell_type": "code",
   "execution_count": 23,
   "metadata": {},
   "outputs": [
    {
     "data": {
      "image/png": "[encoded data removed]",
      "text/plain": [
       "<Figure size 432x288 with 1 Axes>"
      ]
     },
     "metadata": {},
     "output_type": "display_data"
    }
   ],
   "source": [
    "second.vizDistortion()"
   ]
  },
  {
   "cell_type": "code",
   "execution_count": 24,
   "metadata": {},
   "outputs": [
    {
     "data": {
      "text/html": [
       "<div>\n",
       "<style scoped>\n",
       "    .dataframe tbody tr th:only-of-type {\n",
       "        vertical-align: middle;\n",
       "    }\n",
       "\n",
       "    .dataframe tbody tr th {\n",
       "        vertical-align: top;\n",
       "    }\n",
       "\n",
       "    .dataframe thead th {\n",
       "        text-align: right;\n",
       "    }\n",
       "</style>\n",
       "<table border=\"1\" class=\"dataframe\">\n",
       "  <thead>\n",
       "    <tr style=\"text-align: right;\">\n",
       "      <th></th>\n",
       "      <th>Cluster Center X</th>\n",
       "      <th>Cluster Center Y</th>\n",
       "    </tr>\n",
       "  </thead>\n",
       "  <tbody>\n",
       "    <tr>\n",
       "      <th>0</th>\n",
       "      <td>4.347052</td>\n",
       "      <td>150000.0</td>\n",
       "    </tr>\n",
       "    <tr>\n",
       "      <th>1</th>\n",
       "      <td>2.779275</td>\n",
       "      <td>50000.0</td>\n",
       "    </tr>\n",
       "    <tr>\n",
       "      <th>2</th>\n",
       "      <td>4.191166</td>\n",
       "      <td>100000.0</td>\n",
       "    </tr>\n",
       "    <tr>\n",
       "      <th>3</th>\n",
       "      <td>3.927594</td>\n",
       "      <td>75000.0</td>\n",
       "    </tr>\n",
       "    <tr>\n",
       "      <th>4</th>\n",
       "      <td>1.454483</td>\n",
       "      <td>25000.0</td>\n",
       "    </tr>\n",
       "  </tbody>\n",
       "</table>\n",
       "</div>"
      ],
      "text/plain": [
       "   Cluster Center X  Cluster Center Y\n",
       "0          4.347052          150000.0\n",
       "1          2.779275           50000.0\n",
       "2          4.191166          100000.0\n",
       "3          3.927594           75000.0\n",
       "4          1.454483           25000.0"
      ]
     },
     "execution_count": 24,
     "metadata": {},
     "output_type": "execute_result"
    }
   ],
   "source": [
    "second.fitKmeans(5)"
   ]
  },
  {
   "cell_type": "code",
   "execution_count": 25,
   "metadata": {},
   "outputs": [
    {
     "data": {
      "image/png": "[encoded data removed]",
      "text/plain": [
       "<Figure size 720x576 with 1 Axes>"
      ]
     },
     "metadata": {},
     "output_type": "display_data"
    }
   ],
   "source": [
    "second.vizKmeans()"
   ]
  },
  {
   "cell_type": "markdown",
   "metadata": {},
   "source": [
    "First Feature is Occupation labeled from 1 ~ 5, and Second Feature is Income Range.\n",
    "\n",
    "From the data, we can derive that:\n",
    "1. No one in group 1 and 3 earned more than 50k. \n",
    "2. Every person in group 4 and 5 earned at least 50k\n",
    "3. It means, even the lowest paying for group 4 or 5 are actually equal or more than the highest paying for group 1 or 3\n",
    "4. We could also see that people belong to group 2 could have income equal or more than group 1 and 3, but they can't have income as high as group 4 and 5\n",
    "\n",
    "*Some things to note from how the clusters 'bent' or is closer to one group, while further from the others is actually worth mentioning and it's actually interesting. We could also see that from the cluster centers coordinate (which actually a mean of that group).*\n",
    "\n",
    "5. The bottom left clusters is closer to group 1. That means the lowest paying jobs is closer to group 1 than to group 2 or 3\n",
    "6. The bottom middle (horizontally) cluster is closer to group 3. Because there's actually potential for all groups to have 50k income, we could try to slice the board into 2 and find that the cluster is on the left hand-side on the board. That means the cluster centers is more closer to represent group 1 to 3 (group 2 and 3 specifically).\n",
    "7. The second and third cluster from above is quite interesting in the fact that like the cluster center before, they represent group 4 and 5 more than group 3. From this, we could derive that there's more group 4 and 5 people that has 75k (and more so in 100k range) than there is in group 3\n",
    "8. The top cluster centers is the most interesting of all. Somehow it is more closer to group 4 than group 5. And the fact that there is no group 3, it could be concluded that there are more people earn 150k in group 4, than there is in group 5\n",
    "\n",
    "**Final Conclusion**\n",
    "\n",
    "1. From all the cluster centers above we can see that the cluster made some kind of projection upwards. It means that with the increase of group, there's an increase in Income Range.\n",
    "2. From the last 2 derived conclusion, we could take assumption that there are more people in group 4 that earned 150k more than there is in group 5. And there are more people in group 5 that earned 100k more than there is in group 4"
   ]
  },
  {
   "cell_type": "code",
   "execution_count": 26,
   "metadata": {},
   "outputs": [
    {
     "data": {
      "text/plain": [
       "array([3])"
      ]
     },
     "execution_count": 26,
     "metadata": {},
     "output_type": "execute_result"
    }
   ],
   "source": [
    "# w is employee with 75000 income \n",
    "w = [1, 75000]\n",
    "second.labelDatapoints(w)"
   ]
  },
  {
   "cell_type": "markdown",
   "metadata": {},
   "source": [
    "**Third**\n",
    "\n",
    "We'd like to see how Education affects Income Range"
   ]
  },
  {
   "cell_type": "code",
   "execution_count": 27,
   "metadata": {},
   "outputs": [
    {
     "data": {
      "text/plain": [
       "<__main__.KmeansImplementation at 0x1958edf15c0>"
      ]
     },
     "execution_count": 27,
     "metadata": {},
     "output_type": "execute_result"
    },
    {
     "name": "stdout",
     "output_type": "stream",
     "text": [
      "The First 5 Value of Feature 1: [3 2 2 2 4] \n",
      "The First 5 Value of Feature 2: [50000 50000 25000 50000 75000]\n"
     ]
    }
   ],
   "source": [
    "third = KmeansImplementation(f7, f3)\n",
    "third\n",
    "print(third)"
   ]
  },
  {
   "cell_type": "code",
   "execution_count": 28,
   "metadata": {},
   "outputs": [
    {
     "name": "stdout",
     "output_type": "stream",
     "text": [
      "First Feature: [3 2 2 ... 4 2 3] \n",
      "Second Feature: [50000 50000 25000 ... 50000 50000 75000]\n",
      "\n",
      "Zipped Array: []\n"
     ]
    }
   ],
   "source": [
    "third.showItems()"
   ]
  },
  {
   "cell_type": "code",
   "execution_count": 29,
   "metadata": {
    "scrolled": true
   },
   "outputs": [
    {
     "data": {
      "image/png": "[encoded data removed]",
      "text/plain": [
       "<Figure size 432x288 with 1 Axes>"
      ]
     },
     "metadata": {},
     "output_type": "display_data"
    }
   ],
   "source": [
    "third.vizDataset()"
   ]
  },
  {
   "cell_type": "code",
   "execution_count": 30,
   "metadata": {},
   "outputs": [
    {
     "data": {
      "text/plain": [
       "array([[    3, 50000],\n",
       "       [    2, 50000],\n",
       "       [    2, 25000],\n",
       "       ...,\n",
       "       [    4, 50000],\n",
       "       [    2, 50000],\n",
       "       [    3, 75000]], dtype=int64)"
      ]
     },
     "execution_count": 30,
     "metadata": {},
     "output_type": "execute_result"
    }
   ],
   "source": [
    "third.zipFeature()"
   ]
  },
  {
   "cell_type": "code",
   "execution_count": 31,
   "metadata": {},
   "outputs": [
    {
     "name": "stdout",
     "output_type": "stream",
     "text": [
      "Calculations Done\n"
     ]
    },
    {
     "data": {
      "text/plain": [
       "[26292.153128797283,\n",
       " 17659.719055073077,\n",
       " 10184.81923875645,\n",
       " 4962.582322093802,\n",
       " 0.9201802200921065,\n",
       " 0.79912383401354,\n",
       " 0.6933369846333512,\n",
       " 0.6263382031816823,\n",
       " 0.5670402489397133]"
      ]
     },
     "execution_count": 31,
     "metadata": {},
     "output_type": "execute_result"
    }
   ],
   "source": [
    "third.calculateDistortion(10)"
   ]
  },
  {
   "cell_type": "code",
   "execution_count": 32,
   "metadata": {},
   "outputs": [
    {
     "data": {
      "image/png": "[encoded data removed]",
      "text/plain": [
       "<Figure size 432x288 with 1 Axes>"
      ]
     },
     "metadata": {},
     "output_type": "display_data"
    }
   ],
   "source": [
    "third.vizDistortion()"
   ]
  },
  {
   "cell_type": "code",
   "execution_count": 33,
   "metadata": {},
   "outputs": [
    {
     "data": {
      "text/html": [
       "<div>\n",
       "<style scoped>\n",
       "    .dataframe tbody tr th:only-of-type {\n",
       "        vertical-align: middle;\n",
       "    }\n",
       "\n",
       "    .dataframe tbody tr th {\n",
       "        vertical-align: top;\n",
       "    }\n",
       "\n",
       "    .dataframe thead th {\n",
       "        text-align: right;\n",
       "    }\n",
       "</style>\n",
       "<table border=\"1\" class=\"dataframe\">\n",
       "  <thead>\n",
       "    <tr style=\"text-align: right;\">\n",
       "      <th></th>\n",
       "      <th>Cluster Center X</th>\n",
       "      <th>Cluster Center Y</th>\n",
       "    </tr>\n",
       "  </thead>\n",
       "  <tbody>\n",
       "    <tr>\n",
       "      <th>0</th>\n",
       "      <td>3.230352</td>\n",
       "      <td>50000.0</td>\n",
       "    </tr>\n",
       "    <tr>\n",
       "      <th>1</th>\n",
       "      <td>3.461984</td>\n",
       "      <td>100000.0</td>\n",
       "    </tr>\n",
       "    <tr>\n",
       "      <th>2</th>\n",
       "      <td>3.414619</td>\n",
       "      <td>150000.0</td>\n",
       "    </tr>\n",
       "    <tr>\n",
       "      <th>3</th>\n",
       "      <td>3.732446</td>\n",
       "      <td>75000.0</td>\n",
       "    </tr>\n",
       "    <tr>\n",
       "      <th>4</th>\n",
       "      <td>2.316222</td>\n",
       "      <td>25000.0</td>\n",
       "    </tr>\n",
       "  </tbody>\n",
       "</table>\n",
       "</div>"
      ],
      "text/plain": [
       "   Cluster Center X  Cluster Center Y\n",
       "0          3.230352           50000.0\n",
       "1          3.461984          100000.0\n",
       "2          3.414619          150000.0\n",
       "3          3.732446           75000.0\n",
       "4          2.316222           25000.0"
      ]
     },
     "execution_count": 33,
     "metadata": {},
     "output_type": "execute_result"
    }
   ],
   "source": [
    "third.fitKmeans(5)"
   ]
  },
  {
   "cell_type": "code",
   "execution_count": 34,
   "metadata": {},
   "outputs": [
    {
     "data": {
      "image/png": "[encoded data removed]",
      "text/plain": [
       "<Figure size 720x576 with 1 Axes>"
      ]
     },
     "metadata": {},
     "output_type": "display_data"
    }
   ],
   "source": [
    "third.vizKmeans()"
   ]
  },
  {
   "cell_type": "markdown",
   "metadata": {},
   "source": [
    "First Feature is Education labeled from 1 ~ 5, and Second Feature is Income Range.\n",
    "\n",
    "From the data we can derive that for every education level, there are people that has income from lowest to highest. It is interesting to see where the cluster centers ended up. Because the slots (or all feature all filled (?)) is full. We can slice the board into 2 parts to help group the people to specific conclusion.\n",
    "1. The lowest cluster centers is in the left hand-side on the board, that means on group 1 ~ 3, there are more people earning 25k than people on group 3 ~ 5\n",
    "2. The cluster centers other than the lowest one, is all on the right hand-side, that means there are more people earning 50k and more on group 3 ~ 5\n",
    "3. People on group 4 ~ 5 are more likely to earn 75k, the middle (vertically) cluster centers is closer to group 4 ~ 5\n",
    "4. The rest upwards is actually comeback to the center, it means the income earned is diversed into all groups from 100k upward."
   ]
  },
  {
   "cell_type": "code",
   "execution_count": 35,
   "metadata": {},
   "outputs": [
    {
     "data": {
      "text/plain": [
       "array([1])"
      ]
     },
     "execution_count": 35,
     "metadata": {},
     "output_type": "execute_result"
    }
   ],
   "source": [
    "# e is highschooler that has 100000 income\n",
    "e = [2, 100000]\n",
    "third.labelDatapoints(e)"
   ]
  },
  {
   "cell_type": "markdown",
   "metadata": {},
   "source": [
    "**Fourth**\n",
    "\n",
    "We'd like to see how Income Earned affects House Owned"
   ]
  },
  {
   "cell_type": "code",
   "execution_count": 36,
   "metadata": {},
   "outputs": [
    {
     "data": {
      "text/plain": [
       "<__main__.KmeansImplementation at 0x1958f1557b8>"
      ]
     },
     "execution_count": 36,
     "metadata": {},
     "output_type": "execute_result"
    },
    {
     "name": "stdout",
     "output_type": "stream",
     "text": [
      "The First 5 Value of Feature 1: [50000 50000 25000 50000 75000] \n",
      "The First 5 Value of Feature 2: [1 1 1 1 1]\n"
     ]
    }
   ],
   "source": [
    "fourth = KmeansImplementation(f3, f9)\n",
    "fourth\n",
    "print(fourth)"
   ]
  },
  {
   "cell_type": "code",
   "execution_count": 37,
   "metadata": {},
   "outputs": [
    {
     "name": "stdout",
     "output_type": "stream",
     "text": [
      "First Feature: [50000 50000 25000 ... 50000 50000 75000] \n",
      "Second Feature: [1 1 1 ... 1 1 1]\n",
      "\n",
      "Zipped Array: []\n"
     ]
    }
   ],
   "source": [
    "fourth.showItems()"
   ]
  },
  {
   "cell_type": "code",
   "execution_count": 38,
   "metadata": {},
   "outputs": [
    {
     "data": {
      "image/png": "[encoded data removed]",
      "text/plain": [
       "<Figure size 432x288 with 1 Axes>"
      ]
     },
     "metadata": {},
     "output_type": "display_data"
    }
   ],
   "source": [
    "fourth.vizDataset()"
   ]
  },
  {
   "cell_type": "code",
   "execution_count": 40,
   "metadata": {},
   "outputs": [
    {
     "data": {
      "text/plain": [
       "array([[50000,     1],\n",
       "       [50000,     1],\n",
       "       [25000,     1],\n",
       "       ...,\n",
       "       [50000,     1],\n",
       "       [50000,     1],\n",
       "       [75000,     1]], dtype=int64)"
      ]
     },
     "execution_count": 40,
     "metadata": {},
     "output_type": "execute_result"
    }
   ],
   "source": [
    "fourth.zipFeature()"
   ]
  },
  {
   "cell_type": "code",
   "execution_count": 41,
   "metadata": {},
   "outputs": [
    {
     "name": "stdout",
     "output_type": "stream",
     "text": [
      "Calculations Done\n"
     ]
    },
    {
     "data": {
      "text/plain": [
       "[26292.153083708647,\n",
       " 17659.719004341405,\n",
       " 10184.767651214037,\n",
       " 4962.311581770233,\n",
       " 0.4334927857063009,\n",
       " 0.2954961164144393,\n",
       " 0.1769218218633455,\n",
       " 0.10071906038705193,\n",
       " 0.040093692603303754]"
      ]
     },
     "execution_count": 41,
     "metadata": {},
     "output_type": "execute_result"
    }
   ],
   "source": [
    "fourth.calculateDistortion(10)"
   ]
  },
  {
   "cell_type": "code",
   "execution_count": 43,
   "metadata": {},
   "outputs": [
    {
     "data": {
      "image/png": "[encoded data removed]",
      "text/plain": [
       "<Figure size 432x288 with 1 Axes>"
      ]
     },
     "metadata": {},
     "output_type": "display_data"
    }
   ],
   "source": [
    "fourth.vizDistortion()"
   ]
  },
  {
   "cell_type": "code",
   "execution_count": 44,
   "metadata": {},
   "outputs": [
    {
     "data": {
      "text/html": [
       "<div>\n",
       "<style scoped>\n",
       "    .dataframe tbody tr th:only-of-type {\n",
       "        vertical-align: middle;\n",
       "    }\n",
       "\n",
       "    .dataframe tbody tr th {\n",
       "        vertical-align: top;\n",
       "    }\n",
       "\n",
       "    .dataframe thead th {\n",
       "        text-align: right;\n",
       "    }\n",
       "</style>\n",
       "<table border=\"1\" class=\"dataframe\">\n",
       "  <thead>\n",
       "    <tr style=\"text-align: right;\">\n",
       "      <th></th>\n",
       "      <th>Cluster Center X</th>\n",
       "      <th>Cluster Center Y</th>\n",
       "    </tr>\n",
       "  </thead>\n",
       "  <tbody>\n",
       "    <tr>\n",
       "      <th>0</th>\n",
       "      <td>75000.0</td>\n",
       "      <td>0.723327</td>\n",
       "    </tr>\n",
       "    <tr>\n",
       "      <th>1</th>\n",
       "      <td>150000.0</td>\n",
       "      <td>0.648649</td>\n",
       "    </tr>\n",
       "    <tr>\n",
       "      <th>2</th>\n",
       "      <td>50000.0</td>\n",
       "      <td>0.662699</td>\n",
       "    </tr>\n",
       "    <tr>\n",
       "      <th>3</th>\n",
       "      <td>100000.0</td>\n",
       "      <td>0.716510</td>\n",
       "    </tr>\n",
       "    <tr>\n",
       "      <th>4</th>\n",
       "      <td>25000.0</td>\n",
       "      <td>0.593087</td>\n",
       "    </tr>\n",
       "  </tbody>\n",
       "</table>\n",
       "</div>"
      ],
      "text/plain": [
       "   Cluster Center X  Cluster Center Y\n",
       "0           75000.0          0.723327\n",
       "1          150000.0          0.648649\n",
       "2           50000.0          0.662699\n",
       "3          100000.0          0.716510\n",
       "4           25000.0          0.593087"
      ]
     },
     "execution_count": 44,
     "metadata": {},
     "output_type": "execute_result"
    }
   ],
   "source": [
    "fourth.fitKmeans(5)"
   ]
  },
  {
   "cell_type": "code",
   "execution_count": 45,
   "metadata": {
    "scrolled": false
   },
   "outputs": [
    {
     "data": {
      "image/png": "[encoded data removed]",
      "text/plain": [
       "<Figure size 720x576 with 1 Axes>"
      ]
     },
     "metadata": {},
     "output_type": "display_data"
    }
   ],
   "source": [
    "fourth.vizKmeans()"
   ]
  },
  {
   "cell_type": "markdown",
   "metadata": {},
   "source": [
    "First Feature is Income Range labeled from 1 ~ 5, and Second Feature is House Owned.\n",
    "\n",
    "We could see from the data, like before, the slots are all filled. Which means for every income range, people do owns a house, or don't, irrespective from how much income they have.\n",
    "\n",
    "Though we can also see how people with income range of 25k have lower chance to own a house than the other group of income range."
   ]
  },
  {
   "cell_type": "markdown",
   "metadata": {},
   "source": [
    "**Fifth**\n",
    "\n",
    "We'd like to see how Income Range affects Car Owned by people."
   ]
  },
  {
   "cell_type": "code",
   "execution_count": 46,
   "metadata": {},
   "outputs": [
    {
     "data": {
      "text/plain": [
       "<__main__.KmeansImplementation at 0x1958f66ab70>"
      ]
     },
     "execution_count": 46,
     "metadata": {},
     "output_type": "execute_result"
    },
    {
     "name": "stdout",
     "output_type": "stream",
     "text": [
      "The First 5 Value of Feature 1: [50000 50000 25000 50000 75000] \n",
      "The First 5 Value of Feature 2: [1 2 2 2 2]\n"
     ]
    }
   ],
   "source": [
    "fifth = KmeansImplementation(f3, f10)\n",
    "fifth\n",
    "print(fifth)"
   ]
  },
  {
   "cell_type": "code",
   "execution_count": 47,
   "metadata": {},
   "outputs": [
    {
     "name": "stdout",
     "output_type": "stream",
     "text": [
      "First Feature: [50000 50000 25000 ... 50000 50000 75000] \n",
      "Second Feature: [1 2 2 ... 2 2 1]\n",
      "\n",
      "Zipped Array: []\n"
     ]
    }
   ],
   "source": [
    "fifth.showItems()"
   ]
  },
  {
   "cell_type": "code",
   "execution_count": 48,
   "metadata": {},
   "outputs": [
    {
     "data": {
      "image/png": "[encoded data removed]",
      "text/plain": [
       "<Figure size 432x288 with 1 Axes>"
      ]
     },
     "metadata": {},
     "output_type": "display_data"
    }
   ],
   "source": [
    "fifth.vizDataset()"
   ]
  },
  {
   "cell_type": "code",
   "execution_count": 49,
   "metadata": {},
   "outputs": [
    {
     "data": {
      "text/plain": [
       "array([[50000,     1],\n",
       "       [50000,     2],\n",
       "       [25000,     2],\n",
       "       ...,\n",
       "       [50000,     2],\n",
       "       [50000,     2],\n",
       "       [75000,     1]], dtype=int64)"
      ]
     },
     "execution_count": 49,
     "metadata": {},
     "output_type": "execute_result"
    },
    {
     "name": "stdout",
     "output_type": "stream",
     "text": [
      "Calculations Done\n"
     ]
    },
    {
     "data": {
      "text/plain": [
       "[26292.153117028432,\n",
       " 17659.71903819788,\n",
       " 10184.801168068254,\n",
       " 4962.477963466604,\n",
       " 0.8202064847937831,\n",
       " 0.7034237236156736,\n",
       " 0.5893587591580008,\n",
       " 0.5194518561519129,\n",
       " 0.46714517124363425]"
      ]
     },
     "execution_count": 49,
     "metadata": {},
     "output_type": "execute_result"
    },
    {
     "data": {
      "image/png": "[encoded data removed]",
      "text/plain": [
       "<Figure size 432x288 with 1 Axes>"
      ]
     },
     "metadata": {},
     "output_type": "display_data"
    }
   ],
   "source": [
    "fifth.zipFeature()\n",
    "fifth.calculateDistortion(10)\n",
    "fifth.vizDistortion()"
   ]
  },
  {
   "cell_type": "code",
   "execution_count": 50,
   "metadata": {
    "scrolled": false
   },
   "outputs": [
    {
     "data": {
      "text/html": [
       "<div>\n",
       "<style scoped>\n",
       "    .dataframe tbody tr th:only-of-type {\n",
       "        vertical-align: middle;\n",
       "    }\n",
       "\n",
       "    .dataframe tbody tr th {\n",
       "        vertical-align: top;\n",
       "    }\n",
       "\n",
       "    .dataframe thead th {\n",
       "        text-align: right;\n",
       "    }\n",
       "</style>\n",
       "<table border=\"1\" class=\"dataframe\">\n",
       "  <thead>\n",
       "    <tr style=\"text-align: right;\">\n",
       "      <th></th>\n",
       "      <th>Cluster Center X</th>\n",
       "      <th>Cluster Center Y</th>\n",
       "    </tr>\n",
       "  </thead>\n",
       "  <tbody>\n",
       "    <tr>\n",
       "      <th>0</th>\n",
       "      <td>75000.0</td>\n",
       "      <td>1.380631</td>\n",
       "    </tr>\n",
       "    <tr>\n",
       "      <th>1</th>\n",
       "      <td>150000.0</td>\n",
       "      <td>3.109951</td>\n",
       "    </tr>\n",
       "    <tr>\n",
       "      <th>2</th>\n",
       "      <td>50000.0</td>\n",
       "      <td>1.146158</td>\n",
       "    </tr>\n",
       "    <tr>\n",
       "      <th>3</th>\n",
       "      <td>25000.0</td>\n",
       "      <td>1.114648</td>\n",
       "    </tr>\n",
       "    <tr>\n",
       "      <th>4</th>\n",
       "      <td>100000.0</td>\n",
       "      <td>1.945329</td>\n",
       "    </tr>\n",
       "  </tbody>\n",
       "</table>\n",
       "</div>"
      ],
      "text/plain": [
       "   Cluster Center X  Cluster Center Y\n",
       "0           75000.0          1.380631\n",
       "1          150000.0          3.109951\n",
       "2           50000.0          1.146158\n",
       "3           25000.0          1.114648\n",
       "4          100000.0          1.945329"
      ]
     },
     "execution_count": 50,
     "metadata": {},
     "output_type": "execute_result"
    },
    {
     "data": {
      "image/png": "[encoded data removed]",
      "text/plain": [
       "<Figure size 720x576 with 1 Axes>"
      ]
     },
     "metadata": {},
     "output_type": "display_data"
    }
   ],
   "source": [
    "fifth.fitKmeans(5)\n",
    "fifth.vizKmeans()"
   ]
  },
  {
   "cell_type": "markdown",
   "metadata": {},
   "source": [
    "First Feature is Income Range labeled from 1 ~ 5, and Second Feature is Car Owned.\n",
    "\n",
    "We could see from the data, like before, the slots are all filled again. Which means for every income range, people do do have car (and it's up to 4 cars) or don't have.\n",
    "\n",
    "We could see from the projection line of the cluster centers is going up from the lowest income range to the highest income range (from 1 to 3). Which means that the higher income earned for people, the higher the chance they have car more than 1.\n",
    "\n",
    "Also, people from each income range have at least 1 car."
   ]
  },
  {
   "cell_type": "markdown",
   "metadata": {},
   "source": [
    "### That's it for our analysis!"
   ]
  }
 ],
 "metadata": {
  "kernelspec": {
   "display_name": "Python 3",
   "language": "python",
   "name": "python3"
  },
  "language_info": {
   "codemirror_mode": {
    "name": "ipython",
    "version": 3
   },
   "file_extension": ".py",
   "mimetype": "text/x-python",
   "name": "python",
   "nbconvert_exporter": "python",
   "pygments_lexer": "ipython3",
   "version": "3.6.5"
  }
 },
 "nbformat": 4,
 "nbformat_minor": 2
}
