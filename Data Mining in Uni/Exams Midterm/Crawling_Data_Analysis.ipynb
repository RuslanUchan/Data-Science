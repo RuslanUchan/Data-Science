{
 "cells": [
  {
   "cell_type": "markdown",
   "metadata": {},
   "source": [
    "### UTS Data Mining - Crawling Twitter \n",
    "\n",
    "#### Analisis Kode - step by step."
   ]
  },
  {
   "cell_type": "markdown",
   "metadata": {},
   "source": [
    "Dalam proses data mining twitter, terdapat 3 proses.\n",
    "\n",
    "1. Data Mining, menggunakan modul tweepy, akses token untuk autentifikasi, dan StreamListener() untuk streaming data\n",
    "2. Pre-Processing, memasukkan data dan mengolahnya dengan Python menggunakan modul Pandas\n",
    "3. Visualisasi, memberikan grafik visual dari data dengan menggunakan modul Matplotlib"
   ]
  },
  {
   "cell_type": "markdown",
   "metadata": {},
   "source": [
    "#### Data Mining\n",
    "\n",
    "Berikut adalah proses dari Data Mining, menggunakan:\n",
    "\n",
    "1. modul tweepy (bisa didapatkan melalui conda install atau pip)\n",
    "\n",
    "2. Akses token, akses token untuk API Twitter bisa didapatkan lewat website [Twitter Apps](https://apps.twitter.com/) dan mendaftarkan apps crawling untuk mendapatkan akses token. Akses token akan digunakan (embed) di dalam kode untuk autentifikasi saat streaming agar dapat berinteraksi dengan API Twitter\n",
    "\n",
    "3. StreamListener() yang sudah termasuk dalam modul tweepy untuk melakukan streaming data. "
   ]
  },
  {
   "cell_type": "markdown",
   "metadata": {},
   "source": [
    "Berikut step untuk melakukan proses Data Mining\n",
    "\n",
    "1. Import modul tweepy dan StreamListener()\n",
    "\n",
    "2. Memasukkan akses token ke dalam variabel untuk autentifikasi yang nantinya akan disatukan dalam modul *OAuthHandler()*\n",
    "\n",
    "3. Membuat class khusus untuk menyimpan data streaming dengan mengoper fungsi StreamListener() ke dalam class untuk melakukan proses read-write data twitter.\n",
    "\n",
    "4. Modul tweepy dilengkapi dengan berbagai macam fungsi yang dapat digunakan untuk beberapa kebutuhan, salah satu yang digunakan dalam kode ini adalah filter() untuk melakukan penyaringan data twitter berdasarkan lokasi spesifik."
   ]
  },
  {
   "cell_type": "code",
   "execution_count": null,
   "metadata": {},
   "outputs": [],
   "source": [
    "from tweepy.streaming import StreamListener\n",
    "from tweepy import OAuthHandler\n",
    "from tweepy import Stream\n",
    "\n",
    "\n",
    "# variable that contains the user credentials to access Twitter API\n",
    "access_token = \"\" # Your Access Token\n",
    "access_token_secret = \"\" # Your Access Token Secret\n",
    "consumer_key = \"\" # Your Consumer Key\n",
    "consumer_secret = \"\" # Your Consumer Secret\n",
    "\n",
    "\n",
    "# this is the basic listener that just prints received tweets to stdout\n",
    "class StdOutListener(StreamListener):\n",
    "    def on_data(self, data):\n",
    "        #print (\"%s\\n\" % data)\n",
    "        #return True\n",
    "        with open(\"twitter_tweets.txt\", \"a\") as tweet_log:\n",
    "            tweet_log.write(data)\n",
    "            \n",
    "    def on_error(self, status):\n",
    "        print (status)\n",
    "\n",
    "\n",
    "l = StdOutListener()\n",
    "auth = OAuthHandler(consumer_key, consumer_secret)\n",
    "auth.set_access_token(access_token, access_token_secret)\n",
    "stream = Stream(auth, l)\n",
    "\n",
    "\n",
    "stream.filter(locations=[106.20, -6.41, 107.19, -6.01]) # Location set to Indonesia"
   ]
  },
  {
   "cell_type": "markdown",
   "metadata": {},
   "source": [
    "Ketika kode di atas sudah dijalankan, proses read-write data twitter akan berlangsung di dalam file.txt yang sudah kita tentukan direktorinya sebelumnya (jika belum ditentukan maka akan berada di direktori script python).\n",
    "\n",
    "Proses streaming yang dilakukan kali ini berjangka waktu 3 x 24 jam. Dimulai dari pukul 00.00 - 23.59 dan mengumpulkan 3 buat file txt berisi data twitter.\n",
    "\n",
    "Setelah mendapatkan file txt dari streaming, program dapat diinterupsi (stop) untuk menghentikan proses streaming. Dengan itu berakhirlah proses data mining. Selanjutnya ke proses pre-processing data."
   ]
  },
  {
   "cell_type": "markdown",
   "metadata": {},
   "source": [
    "#### Pre-Processing\n",
    "\n",
    "Proses pre-processing sebagian besar merupakan proses manipulasi *Data Frame* Python via modul Pandas. Setidaknya ada 2 modul yang perlu diimport, yaitu *json*, untuk melakukan load (read-write) data dalam format json dan membacanya menggunakan python; *pandas* untuk melakukan manipulasi data."
   ]
  },
  {
   "cell_type": "markdown",
   "metadata": {},
   "source": [
    "Berikut ini adalah proses read-write data ke dalam format json, dan langsung dimasukkan ke dalam *list* python. Berikut ada 3 kali proses read-write yang dilakukan. yang ditandai dengan\n",
    "> for baris in file:\n",
    "    >try:\n",
    "\n",
    "Alasan mengapa dibuat 3 buah data dan tidak digabung menjadi 1 adalah karena analisa dari data nantinya akan 'terpisah' dan tidak disatukan dalam satu set list untuk memudahkan proses analisa.\n",
    "\n",
    "Secara singkat alurnya:\n",
    "1. Membuat list Python sesuai\n",
    "2. Membuka file txt hasil streaming dengan mode 'read'\n",
    "3. Melakukan iterasi ke setiap baris di dalam file txt dan mengubahnya menjadi json, lalu memasukkannya ke dalam list Python dengan *append()*\n",
    "4. Try dan except berfungsi untuk mengabaikan jika terjadi error dalam pengambilan data."
   ]
  },
  {
   "cell_type": "code",
   "execution_count": 1,
   "metadata": {},
   "outputs": [],
   "source": [
    "import json\n",
    "\n",
    "# membaca data dalam format json\n",
    "tweets_data22Mar = []\n",
    "tweets_file1 = open('twitter_tweets22Mar.txt', \"r\")\n",
    "for line in tweets_file1:\n",
    "    try:\n",
    "        tweet = json.loads(line)\n",
    "        tweets_data22Mar.append(tweet)\n",
    "    except:\n",
    "        continue\n",
    "\n",
    "tweets_data1Apr = []\n",
    "tweets_file2 = open('twitter_tweets1Apr.txt', \"r\")\n",
    "for line in tweets_file2:\n",
    "    try:\n",
    "        tweet = json.loads(line)\n",
    "        tweets_data1Apr.append(tweet)\n",
    "    except:\n",
    "        continue\n",
    "\n",
    "tweets_data2Apr = []\n",
    "tweets_file3 = open('twitter_tweets2Apr.txt', \"r\")\n",
    "for line in tweets_file3:\n",
    "    try:\n",
    "        tweet = json.loads(line)\n",
    "        tweets_data2Apr.append(tweet)\n",
    "    except:\n",
    "        continue"
   ]
  },
  {
   "cell_type": "markdown",
   "metadata": {},
   "source": [
    "Setelah data masuk ke dalam list Python. Data diload ke dalam Data Frame Pandas. \n",
    "\n",
    "Dalam proses di bawah, dicontohkan pengambilan kategori 'text', 'lang', 'created_at' dan 'country' (secara berurutan: teks tweet, bahasa yang digunakan, kapan tweet dibuat, dan negara tempat tweet dikirimkan)\n",
    "\n",
    "Penjelasan beberapa kode: \n",
    "- *lambda*  mengambil semua data yang ada dari sebuah kolom/baris. Dalam hal ini list.\n",
    "- *map* memasukkan kategori pilihan ke dalam Data Frame\n",
    "- *pd.DataFrame() membuat variabel bertipe Data Frame"
   ]
  },
  {
   "cell_type": "code",
   "execution_count": 2,
   "metadata": {},
   "outputs": [],
   "source": [
    "import pandas as pd \n",
    "\n",
    "#loading data ke data frame\n",
    "\n",
    "tweets22Mar = pd.DataFrame()\n",
    "tweets22Mar[\"text\"] = list(map(lambda tweet: tweet['text'], tweets_data22Mar))\n",
    "tweets22Mar['lang'] = list(map(lambda tweet: tweet['lang'], tweets_data22Mar))\n",
    "tweets22Mar['created_at'] = list(map(lambda tweet: tweet['created_at'], tweets_data22Mar))\n",
    "tweets22Mar['country'] = list(map(lambda tweet: tweet['place']['country'] if tweet['place'] != None else None, tweets_data22Mar))\n",
    "\n",
    "tweets1Apr = pd.DataFrame()\n",
    "tweets1Apr[\"text\"] = list(map(lambda tweet: tweet['text'], tweets_data1Apr))\n",
    "tweets1Apr['lang'] = list(map(lambda tweet: tweet['lang'], tweets_data1Apr))\n",
    "tweets1Apr['created_at'] = list(map(lambda tweet: tweet['created_at'], tweets_data1Apr))\n",
    "tweets1Apr['country'] = list(map(lambda tweet: tweet['place']['country'] if tweet['place'] != None else None, tweets_data1Apr))\n",
    "\n",
    "tweets2Apr = pd.DataFrame()\n",
    "tweets2Apr[\"text\"] = list(map(lambda tweet: tweet['text'], tweets_data2Apr))\n",
    "tweets2Apr['lang'] = list(map(lambda tweet: tweet['lang'], tweets_data2Apr))\n",
    "tweets2Apr['created_at'] = list(map(lambda tweet: tweet['created_at'], tweets_data2Apr))\n",
    "tweets2Apr['country'] = list(map(lambda tweet: tweet['place']['country'] if tweet['place'] != None else None, tweets_data2Apr))"
   ]
  },
  {
   "cell_type": "markdown",
   "metadata": {},
   "source": [
    "Setelah data berbentuk Data Frame, maka proses manipulasi data dapat dilakukan. Data Frame merupakan sebuah objek yang memiliki baris dan kolom, dalam proses memanipulasi data, baris dan kolom ini yang digunakan untuk mengakses dan melakukan sesuatu pada data.\n",
    "\n",
    "Berikut dilakukan pengukuran terhadap panjang Data Frame dengan fungsi *len()* yang menggambarkan jumlah data di dalam Data Frame."
   ]
  },
  {
   "cell_type": "code",
   "execution_count": 3,
   "metadata": {},
   "outputs": [
    {
     "name": "stdout",
     "output_type": "stream",
     "text": [
      "Jumlah Data Tweets:  51455\n",
      "\n",
      "Jumlah Data:\n",
      "22 Maret: 15805\n",
      "1 April: 18061\n",
      "2 April: 17589\n",
      "\n"
     ]
    }
   ],
   "source": [
    "# print jumlah tweets\n",
    "print (\"Jumlah Data Tweets: \", len(tweets22Mar) + len(tweets1Apr) + len(tweets2Apr))\n",
    "print(f\"\\nJumlah Data:\\n22 Maret: {len(tweets22Mar)}\\n1 April: {len(tweets1Apr)}\\n2 April: {len(tweets2Apr)}\\n\")"
   ]
  },
  {
   "cell_type": "markdown",
   "metadata": {},
   "source": [
    "Berikut ini dilakukan akses terhadap kolom data 'lang' (bahasa) dan dilakukan proses filter data berbahasa Indonesia\n",
    "> lang == 'in'\n",
    "\n",
    "Dengan begitu hanya data dengan kategori bahasa Indonesia yang masuk ke variabel baru (dalam hal ini dilakukan proses overwrite variabel)"
   ]
  },
  {
   "cell_type": "code",
   "execution_count": 4,
   "metadata": {},
   "outputs": [],
   "source": [
    "# filter data yang berbahasa Indonesia\n",
    "\n",
    "tweetsIn22Mar = tweets22Mar[tweets22Mar.lang == 'in']\n",
    "tweetsIn1Apr = tweets1Apr[tweets1Apr.lang == 'in'] \n",
    "tweetsIn2Apr = tweets2Apr[tweets2Apr.lang == 'in']"
   ]
  },
  {
   "cell_type": "markdown",
   "metadata": {},
   "source": [
    "Proses overwrite sudah dilakukan dan selanjutnya dilakukan pengecekan terhadap Data Frame\n",
    "\n",
    "**Notes** \n",
    "Di bawah ini adalah kode untuk mengaktifkan *InteractiveShell* Jupyter yang berfungsi agar proses pengecekan data dapat langsung sekaligus dilakukan dalam 1 sel kode."
   ]
  },
  {
   "cell_type": "code",
   "execution_count": 5,
   "metadata": {},
   "outputs": [],
   "source": [
    "# interaktif jupyter\n",
    "\n",
    "from IPython.core.interactiveshell import InteractiveShell\n",
    "InteractiveShell.ast_node_interactivity = \"all\""
   ]
  },
  {
   "cell_type": "markdown",
   "metadata": {},
   "source": [
    "Kode di bawah akan melakukan pengecekan pada data yang tadi kita ubah bahasanya. \n",
    "\n",
    "Untuk melakukan pengecekan dan melihat data dapat melalui beberapa cara, salah satu cara untuk mengecek adalah dengan *head* untuk melihat 5 kode teratas dari data sebagai perwakilan dari data yang lainnya. "
   ]
  },
  {
   "cell_type": "code",
   "execution_count": 6,
   "metadata": {
    "scrolled": true
   },
   "outputs": [
    {
     "data": {
      "text/html": [
       "<div>\n",
       "<style scoped>\n",
       "    .dataframe tbody tr th:only-of-type {\n",
       "        vertical-align: middle;\n",
       "    }\n",
       "\n",
       "    .dataframe tbody tr th {\n",
       "        vertical-align: top;\n",
       "    }\n",
       "\n",
       "    .dataframe thead th {\n",
       "        text-align: right;\n",
       "    }\n",
       "</style>\n",
       "<table border=\"1\" class=\"dataframe\">\n",
       "  <thead>\n",
       "    <tr style=\"text-align: right;\">\n",
       "      <th></th>\n",
       "      <th>text</th>\n",
       "      <th>lang</th>\n",
       "      <th>created_at</th>\n",
       "      <th>country</th>\n",
       "    </tr>\n",
       "  </thead>\n",
       "  <tbody>\n",
       "    <tr>\n",
       "      <th>4</th>\n",
       "      <td>W gabisa marah ama dia juga. Percuma marah ama...</td>\n",
       "      <td>in</td>\n",
       "      <td>Wed Mar 21 17:05:58 +0000 2018</td>\n",
       "      <td>Indonesia</td>\n",
       "    </tr>\n",
       "    <tr>\n",
       "      <th>5</th>\n",
       "      <td>mengaku sebagai istri di kehidupan yg sebelumn...</td>\n",
       "      <td>in</td>\n",
       "      <td>Wed Mar 21 17:06:01 +0000 2018</td>\n",
       "      <td>Indonesia</td>\n",
       "    </tr>\n",
       "    <tr>\n",
       "      <th>6</th>\n",
       "      <td>main game sambil tiduran 🤫 https://t.co/aSotVk...</td>\n",
       "      <td>in</td>\n",
       "      <td>Wed Mar 21 17:06:01 +0000 2018</td>\n",
       "      <td>Indonesia</td>\n",
       "    </tr>\n",
       "    <tr>\n",
       "      <th>8</th>\n",
       "      <td>Hari ini muka berasa bgt perih2 krn hbs di tus...</td>\n",
       "      <td>in</td>\n",
       "      <td>Wed Mar 21 17:06:24 +0000 2018</td>\n",
       "      <td>Indonesia</td>\n",
       "    </tr>\n",
       "    <tr>\n",
       "      <th>9</th>\n",
       "      <td>@anisaaurelias lah kok batre?</td>\n",
       "      <td>in</td>\n",
       "      <td>Wed Mar 21 17:06:34 +0000 2018</td>\n",
       "      <td>Indonesia</td>\n",
       "    </tr>\n",
       "  </tbody>\n",
       "</table>\n",
       "</div>"
      ],
      "text/plain": [
       "                                                text lang  \\\n",
       "4  W gabisa marah ama dia juga. Percuma marah ama...   in   \n",
       "5  mengaku sebagai istri di kehidupan yg sebelumn...   in   \n",
       "6  main game sambil tiduran 🤫 https://t.co/aSotVk...   in   \n",
       "8  Hari ini muka berasa bgt perih2 krn hbs di tus...   in   \n",
       "9                      @anisaaurelias lah kok batre?   in   \n",
       "\n",
       "                       created_at    country  \n",
       "4  Wed Mar 21 17:05:58 +0000 2018  Indonesia  \n",
       "5  Wed Mar 21 17:06:01 +0000 2018  Indonesia  \n",
       "6  Wed Mar 21 17:06:01 +0000 2018  Indonesia  \n",
       "8  Wed Mar 21 17:06:24 +0000 2018  Indonesia  \n",
       "9  Wed Mar 21 17:06:34 +0000 2018  Indonesia  "
      ]
     },
     "execution_count": 6,
     "metadata": {},
     "output_type": "execute_result"
    },
    {
     "data": {
      "text/html": [
       "<div>\n",
       "<style scoped>\n",
       "    .dataframe tbody tr th:only-of-type {\n",
       "        vertical-align: middle;\n",
       "    }\n",
       "\n",
       "    .dataframe tbody tr th {\n",
       "        vertical-align: top;\n",
       "    }\n",
       "\n",
       "    .dataframe thead th {\n",
       "        text-align: right;\n",
       "    }\n",
       "</style>\n",
       "<table border=\"1\" class=\"dataframe\">\n",
       "  <thead>\n",
       "    <tr style=\"text-align: right;\">\n",
       "      <th></th>\n",
       "      <th>text</th>\n",
       "      <th>lang</th>\n",
       "      <th>created_at</th>\n",
       "      <th>country</th>\n",
       "    </tr>\n",
       "  </thead>\n",
       "  <tbody>\n",
       "    <tr>\n",
       "      <th>0</th>\n",
       "      <td>yg katanya besok pagi mau ikut race. tapi jam ...</td>\n",
       "      <td>in</td>\n",
       "      <td>Sat Mar 31 17:00:44 +0000 2018</td>\n",
       "      <td>Indonesia</td>\n",
       "    </tr>\n",
       "    <tr>\n",
       "      <th>1</th>\n",
       "      <td>@ikramarki @satriaoo Isinya bulu Ayam boiler y...</td>\n",
       "      <td>in</td>\n",
       "      <td>Sat Mar 31 17:00:46 +0000 2018</td>\n",
       "      <td>Indonesia</td>\n",
       "    </tr>\n",
       "    <tr>\n",
       "      <th>2</th>\n",
       "      <td>@an_zefa @detikcom Stju bro..wkwkwkw #anggurmerah</td>\n",
       "      <td>in</td>\n",
       "      <td>Sat Mar 31 17:00:47 +0000 2018</td>\n",
       "      <td>Indonesia</td>\n",
       "    </tr>\n",
       "    <tr>\n",
       "      <th>4</th>\n",
       "      <td>@SammiSoh Buat apa kita manusia tanggapin otak...</td>\n",
       "      <td>in</td>\n",
       "      <td>Sat Mar 31 17:01:01 +0000 2018</td>\n",
       "      <td>Indonesia</td>\n",
       "    </tr>\n",
       "    <tr>\n",
       "      <th>5</th>\n",
       "      <td>Bareng si cantik #BabyALUDRA .....duh hiburan ...</td>\n",
       "      <td>in</td>\n",
       "      <td>Sat Mar 31 17:01:05 +0000 2018</td>\n",
       "      <td>Indonesia</td>\n",
       "    </tr>\n",
       "  </tbody>\n",
       "</table>\n",
       "</div>"
      ],
      "text/plain": [
       "                                                text lang  \\\n",
       "0  yg katanya besok pagi mau ikut race. tapi jam ...   in   \n",
       "1  @ikramarki @satriaoo Isinya bulu Ayam boiler y...   in   \n",
       "2  @an_zefa @detikcom Stju bro..wkwkwkw #anggurmerah   in   \n",
       "4  @SammiSoh Buat apa kita manusia tanggapin otak...   in   \n",
       "5  Bareng si cantik #BabyALUDRA .....duh hiburan ...   in   \n",
       "\n",
       "                       created_at    country  \n",
       "0  Sat Mar 31 17:00:44 +0000 2018  Indonesia  \n",
       "1  Sat Mar 31 17:00:46 +0000 2018  Indonesia  \n",
       "2  Sat Mar 31 17:00:47 +0000 2018  Indonesia  \n",
       "4  Sat Mar 31 17:01:01 +0000 2018  Indonesia  \n",
       "5  Sat Mar 31 17:01:05 +0000 2018  Indonesia  "
      ]
     },
     "execution_count": 6,
     "metadata": {},
     "output_type": "execute_result"
    },
    {
     "data": {
      "text/html": [
       "<div>\n",
       "<style scoped>\n",
       "    .dataframe tbody tr th:only-of-type {\n",
       "        vertical-align: middle;\n",
       "    }\n",
       "\n",
       "    .dataframe tbody tr th {\n",
       "        vertical-align: top;\n",
       "    }\n",
       "\n",
       "    .dataframe thead th {\n",
       "        text-align: right;\n",
       "    }\n",
       "</style>\n",
       "<table border=\"1\" class=\"dataframe\">\n",
       "  <thead>\n",
       "    <tr style=\"text-align: right;\">\n",
       "      <th></th>\n",
       "      <th>text</th>\n",
       "      <th>lang</th>\n",
       "      <th>created_at</th>\n",
       "      <th>country</th>\n",
       "    </tr>\n",
       "  </thead>\n",
       "  <tbody>\n",
       "    <tr>\n",
       "      <th>0</th>\n",
       "      <td>Salah satu yang enak banget yang bahasa Tagalo...</td>\n",
       "      <td>in</td>\n",
       "      <td>Sun Apr 01 16:12:31 +0000 2018</td>\n",
       "      <td>Indonesia</td>\n",
       "    </tr>\n",
       "    <tr>\n",
       "      <th>1</th>\n",
       "      <td>Closer jadi penutup konser @TheChainsmokers . ...</td>\n",
       "      <td>in</td>\n",
       "      <td>Sun Apr 01 16:12:34 +0000 2018</td>\n",
       "      <td>Indonesia</td>\n",
       "    </tr>\n",
       "    <tr>\n",
       "      <th>3</th>\n",
       "      <td>Akhirnya Cikarang again,,  sinyak siuman semua...</td>\n",
       "      <td>in</td>\n",
       "      <td>Sun Apr 01 16:12:40 +0000 2018</td>\n",
       "      <td>Indonesia</td>\n",
       "    </tr>\n",
       "    <tr>\n",
       "      <th>4</th>\n",
       "      <td>@NgopiJahe_09 Makanya lu jangan kebanyakan mak...</td>\n",
       "      <td>in</td>\n",
       "      <td>Sun Apr 01 16:12:41 +0000 2018</td>\n",
       "      <td>Indonesia</td>\n",
       "    </tr>\n",
       "    <tr>\n",
       "      <th>5</th>\n",
       "      <td>ISTIKHARAH CINTAKU\\n\\n￼… https://t.co/BdSvhVFCRa</td>\n",
       "      <td>in</td>\n",
       "      <td>Sun Apr 01 16:12:44 +0000 2018</td>\n",
       "      <td>Indonesia</td>\n",
       "    </tr>\n",
       "  </tbody>\n",
       "</table>\n",
       "</div>"
      ],
      "text/plain": [
       "                                                text lang  \\\n",
       "0  Salah satu yang enak banget yang bahasa Tagalo...   in   \n",
       "1  Closer jadi penutup konser @TheChainsmokers . ...   in   \n",
       "3  Akhirnya Cikarang again,,  sinyak siuman semua...   in   \n",
       "4  @NgopiJahe_09 Makanya lu jangan kebanyakan mak...   in   \n",
       "5   ISTIKHARAH CINTAKU\\n\\n￼… https://t.co/BdSvhVFCRa   in   \n",
       "\n",
       "                       created_at    country  \n",
       "0  Sun Apr 01 16:12:31 +0000 2018  Indonesia  \n",
       "1  Sun Apr 01 16:12:34 +0000 2018  Indonesia  \n",
       "3  Sun Apr 01 16:12:40 +0000 2018  Indonesia  \n",
       "4  Sun Apr 01 16:12:41 +0000 2018  Indonesia  \n",
       "5  Sun Apr 01 16:12:44 +0000 2018  Indonesia  "
      ]
     },
     "execution_count": 6,
     "metadata": {},
     "output_type": "execute_result"
    }
   ],
   "source": [
    "#cek print\n",
    "\n",
    "tweetsIn22Mar.head()\n",
    "\n",
    "tweetsIn1Apr.head()\n",
    "\n",
    "tweetsIn2Apr.head()"
   ]
  },
  {
   "cell_type": "markdown",
   "metadata": {},
   "source": [
    "Selanjutnya dilakukan pengecekan terhadap jumlah data,"
   ]
  },
  {
   "cell_type": "code",
   "execution_count": 7,
   "metadata": {},
   "outputs": [
    {
     "name": "stdout",
     "output_type": "stream",
     "text": [
      "Jumlah Data Tweets Indonesia : 36270\n",
      "Jumlah Data:\n",
      "22 Maret: 11363\n",
      "1 April: 12301\n",
      "2 April: 12606\n",
      "\n"
     ]
    }
   ],
   "source": [
    "# print jumlah tweets indo\n",
    "\n",
    "print (\"Jumlah Data Tweets Indonesia :\", len(tweetsIn22Mar) + len(tweetsIn1Apr) + len(tweetsIn2Apr))\n",
    "print(f\"Jumlah Data:\\n22 Maret: {len(tweetsIn22Mar)}\\n1 April: {len(tweetsIn1Apr)}\\n2 April: {len(tweetsIn2Apr)}\\n\")"
   ]
  },
  {
   "cell_type": "markdown",
   "metadata": {},
   "source": [
    "Terlihat jumlah data sudah berkurang dari 51455 menjadi 36270\n",
    "\n",
    "1 proses manipulasi data telah dilakukan. Proses manipulasi berikutnya adalah mengubah *index* Data Frame menjadi zona waktu (yang diwakili oleh kategori *created_at* yang berformat date/time)"
   ]
  },
  {
   "cell_type": "code",
   "execution_count": 8,
   "metadata": {},
   "outputs": [],
   "source": [
    "# zona waktu as index\n",
    "\n",
    "tweetsIn22Mar.index = pd.to_datetime(tweetsIn22Mar['created_at'], utc=True)\n",
    "tweetsIn1Apr.index = pd.to_datetime(tweetsIn1Apr['created_at'], utc=True)\n",
    "tweetsIn2Apr.index = pd.to_datetime(tweetsIn2Apr['created_at'], utc=True)"
   ]
  },
  {
   "cell_type": "markdown",
   "metadata": {},
   "source": [
    "Index adalah salah satu fitur penting dari Data Frame. Secara singkat, Index adalah *unique key* (primary key dalam database) untuk mengakses data di sebuah baris. \n",
    "\n",
    "Ketika Index tidak ditentukan, maka akan otomatis bernilai 0 sampai n-1 data.\n",
    "\n",
    "Saat ini manipulasi terhadap Index sudah dilakukan dan Index sebelumnya telah dioverwrite menjadi *created_at* yang mewakili tanggal/waktu. \n",
    "\n",
    "**Perlu diingat** bahwa tidak semua kategori dapat dijadikan Index. Seperti halnya *primary key* atau *unique key* maka setiap Index harus bersifat unik bagi setiap baris. Hal ini dikarenakan setiap baris memiliki data dan proses pengambilan data ke dalam baris hanya bisa dilakukan ketika baris satu dan yang lain memiliki 'address' yang berbeda. *Created_at* dapat dijadikan Index karena bersifat unik bagi setiap tweets yang ada (karena proses streaming dan bukan batching, jadi tidak mungkin ada tweet yang masuk dalam waktu bersamaan)"
   ]
  },
  {
   "cell_type": "markdown",
   "metadata": {},
   "source": [
    "Berikut ini dilakukan pengecekan lagi terhadap Data Frame.\n",
    "\n",
    "Dapat dilihat perbedaannya di kolom sebelah kiri menjadi *created_at*"
   ]
  },
  {
   "cell_type": "code",
   "execution_count": null,
   "metadata": {},
   "outputs": [],
   "source": [
    "#cek print head - zona waktu as index\n",
    "\n",
    "tweetsIn22Mar.head()\n",
    "tweetsIn1Apr.head()\n",
    "tweetsIn2Apr.head()"
   ]
  },
  {
   "cell_type": "markdown",
   "metadata": {},
   "source": [
    "Sudah 2 manipulasi dilakukan. Penyaringan data, dan penentuan Index.\n",
    "\n",
    "Selanjutnya akan dilakukan penyesuaian zona waktu, karena data yang didapatkan masih berzona waktu GMT 00.00, maka waktu akan diubah ke zona Asia/Jakarta dengan melakukan import modul *timezone* "
   ]
  },
  {
   "cell_type": "code",
   "execution_count": null,
   "metadata": {},
   "outputs": [],
   "source": [
    "# penyesuaian zona waktu @ Indonesia\n",
    "\n",
    "import pytz\n",
    "from datetime import datetime\n",
    "from pytz import timezone\n",
    "\n",
    "JKT = pytz.timezone('Asia/Jakarta')\n",
    "tweetsIn22Mar.index = tweetsIn22Mar.index.tz_convert(JKT)\n",
    "tweetsIn1Apr.index = tweetsIn1Apr.index.tz_convert(JKT)\n",
    "tweetsIn2Apr.index = tweetsIn2Apr.index.tz_convert(JKT)"
   ]
  },
  {
   "cell_type": "markdown",
   "metadata": {},
   "source": [
    "Lakukan pengecekan lagi terhadap Data Frame."
   ]
  },
  {
   "cell_type": "code",
   "execution_count": null,
   "metadata": {
    "scrolled": true
   },
   "outputs": [],
   "source": [
    "# melihat hasil perubahan zona waktu di kolom index\n",
    "\n",
    "tweetsIn22Mar.head()\n",
    "tweetsIn1Apr.head()\n",
    "tweetsIn2Apr.head()"
   ]
  },
  {
   "cell_type": "markdown",
   "metadata": {},
   "source": [
    "Bisa dilihat nilai dari Index berubah menjadi waktu Indonesia.\n",
    "\n",
    "Dengan ini sudah 3x manipulasi dilakukan. Selanjutnya akan dilakukan penyaringan data untuk waktu pas 1 hari dalam tanggal tertentu. Dalam contoh berikut, data akan diambil dari tanggal **22 Maret, 1 April, dan 2 April**\n",
    "\n",
    "Di bawah ini, fungsi *loc()* berfungsi untuk *me-locate* (menemukan) data di dalam baris dan kolom Data Frame dengan value spesifik seperti yang tertera di dalam kurung siku."
   ]
  },
  {
   "cell_type": "code",
   "execution_count": null,
   "metadata": {},
   "outputs": [],
   "source": [
    "# indexer untuk tanggal pembuatan status - pas di tanggal tersebut\n",
    "\n",
    "tweetsIn22Mar = tweetsIn22Mar.loc['2018-03-22']\n",
    "tweetsIn1Apr = tweetsIn1Apr.loc['2018-04-1']\n",
    "tweetsIn2Apr = tweetsIn2Apr.loc['2018-04-2']"
   ]
  },
  {
   "cell_type": "markdown",
   "metadata": {},
   "source": [
    "Sudah 4x manipulasi dilakukan, selanjutnya dilakukan pengecekan terhadap *head()* dan juga *tail()*. Jika head merupakan 5 data teratas dalam Data Frame, maka tail adalah 5 data terakhir yang ada di dalam Data Frame.\n",
    "\n",
    "Pengecekan pada awal dan akhir Data Frame memastikan bahwa tidak hanya bagian depan data yang berhasil diubah, dan jika bagian depan dan belakang berubah, dapat diasumsikan bahwa manipulasi data berjalan lancar dari awal ke akhir (artinya semua data dimanipulasi)"
   ]
  },
  {
   "cell_type": "code",
   "execution_count": null,
   "metadata": {},
   "outputs": [],
   "source": [
    "# cek head & tail untuk perubahan tanggal\n",
    "\n",
    "tweetsIn22Mar.head()\n",
    "tweetsIn22Mar.tail()\n",
    "\n",
    "tweetsIn1Apr.head()\n",
    "tweetsIn1Apr.tail()\n",
    "\n",
    "tweetsIn2Apr.head()\n",
    "tweetsIn2Apr.tail()"
   ]
  },
  {
   "cell_type": "markdown",
   "metadata": {},
   "source": [
    "Dapat dilihat terdapat perubahan di tanggal 2 April, dimana tweet yang berasal dari tanggal 1 April dikeluarkan. \n",
    "\n",
    "Melihat bahwa 5 data terdepan dan terbelakang dari Data Frame memiliki tanggal yang sama. Hal ini memastikan bahwa **Data representatif untuk mewakili tanggal tersebut**"
   ]
  },
  {
   "cell_type": "markdown",
   "metadata": {},
   "source": [
    "Selanjutnya dilakukan perhitungan untuk mengecek jumlah data yang tersisa setelah filter.\n",
    "\n",
    "**Dan**\n",
    "\n",
    "menyelesaikan proses pre-processing dengan mengubah Data Frame ke bentuk yang lebih simpel untuk **memilih kategori** yang akan divisualisasikan. Dalam hal ini, yang akan dijadikan visualisasi adalah *jumlah tweets* dan *tanggal* yang mungkin memiliki hubungan di antaranya."
   ]
  },
  {
   "cell_type": "code",
   "execution_count": null,
   "metadata": {},
   "outputs": [],
   "source": [
    "print (\"Jumlah data tweets berbahasa Indonesia berdasarkan tanggal\\n\")\n",
    "print(\"Total Tweets: \", len(tweetsIn22Mar) + len(tweetsIn1Apr) + len(tweetsIn2Apr))\n",
    "\n",
    "df22m = pd.DataFrame({'tanggal' : ['22 Maret 2018'], 'jumlah tweets' : [len(tweetsIn22Mar)]})\n",
    "df1ap = pd.DataFrame({'tanggal' : ['1 April 2018'], 'jumlah tweets' : [len(tweetsIn1Apr)]})\n",
    "df2ap = pd.DataFrame({'tanggal' : ['2 April 2018'], 'jumlah tweets' : [len(tweetsIn2Apr)]})\n",
    "\n",
    "# Print Jumlah Tweets\n",
    "df22m.head()  # Mar 22\n",
    "df1ap.head()   # Apr 1\n",
    "df2ap.head()   # Apr 2"
   ]
  },
  {
   "cell_type": "markdown",
   "metadata": {},
   "source": [
    "Dapat dilihat, data yang tadinya 36270 entry menjadi 35684 entry. Dan terjadi perubahan terhadap Data Frame yang sekarang hanya berupa 1 entry data yang berisi *jumlah tweets* dan *tanggal*\n",
    "\n",
    "Sebelumnya perlu diperhatikan bahwa tidak dilakukan *overwrite* variabel dalam proses di atas. Artinya Data Frame yang sebelumnya sudah melewati proses manipulasi masih bisa diakses dan digunakan. Karena itulah digunakan variabel baru (Data Frame baru) untuk dimasukkan ke proses visualisasi."
   ]
  },
  {
   "cell_type": "markdown",
   "metadata": {},
   "source": [
    "#### Visualisasi\n",
    "\n",
    "Sekarang akan dilakukan proses visualisasi dari data. \n",
    "\n",
    "Pada proses ini akan digunakan beberapa modul khusus visualisasi, seperti matplotlib, seaborn, dan pyplot.\n",
    "\n",
    "Ketiga modul tersebut adalah modul-modul visualisasi yang mendukung proses visualisasi data dan dalam langkah-langkah selanjutnya akan digunakan beberapa (banyak) fungsi dari modul-modul tersebut (kecuali seaborn dan pyplot, mayoritas kode ini menggunakan matplotlib untuk visualisasi)"
   ]
  },
  {
   "cell_type": "markdown",
   "metadata": {},
   "source": [
    "Berikut diimport modul matplotlib untuk visualisasi (dan numpy, hanya untuk melakukan iterasi array)\n",
    "\n",
    "Sebelum melihat alur kode, mungkin bisa dilihat terlebih dahulu output dari kode yang dihasilkan. Kali ini visualisasi akan menggunakan *bar* untuk mengukur jumlah tweets perharinya.\n",
    "\n",
    "Alur kode visualisasi:\n",
    "1. Membuat objek kanvas dari fig (objek figure) bernama 'ax'. Objek ax lalu diberikan fungsi subplots dari matplotlib sebagai tools untuk 'mewarnai' kanvas tersebut\n",
    "2. Memasukkan mengubah jumlah tweets menjadi string untuk digunakan sebagai *label* dalam *legends*\n",
    "3. Menetapkan lebar dari bar yang akan digunakan, sebesar 0.3 inch\n",
    "\n",
    "4. Membuat variabel rects yang merupakan representasi dari bar di dalam kanvas dan menggambarkan bar dengan tools *bar()* dari matplotlib yang dapat diakses melalui objek ax.bar. Beberapa argumen dimasukkan ke dalam fungsi ax.bar (fungsi pembuat bar), secara berurutan *index (pemberi nomor bar), height (item yang diukur), lebar bar, warna bar, dan label untuk legend*\n",
    "\n",
    "5. Selanjutnya objek ax yang berupa kanvas akan 'dihiasi' dengan informasi seperti label, judul, xticks (penanda data), dan legend."
   ]
  },
  {
   "cell_type": "code",
   "execution_count": null,
   "metadata": {
    "scrolled": true
   },
   "outputs": [],
   "source": [
    "# melihat grafik bar total tweets per hari\n",
    "\n",
    "import matplotlib.pyplot as plt\n",
    "import numpy as np\n",
    "\n",
    "fig, ax = plt.subplots()\n",
    "\n",
    "mar22 = str(df22m.loc[0, 'jumlah tweets'])\n",
    "apr1 = str(df1ap.loc[0, 'jumlah tweets'])\n",
    "apr2 = str(df2ap.loc[0, 'jumlah tweets'])\n",
    "\n",
    "bar_width = 0.3\n",
    "\n",
    "rects1 = ax.bar(1, df22m['jumlah tweets'], bar_width, color = 'b', label = mar22)\n",
    "rects2 = ax.bar(2, df1ap['jumlah tweets'], bar_width, color = 'r', label = apr1)\n",
    "rects3 = ax.bar(3, df2ap['jumlah tweets'], bar_width, color = 'y', label = apr2)\n",
    "\n",
    "ax.set_ylabel('Jumlah Tweets')\n",
    "ax.set_xlabel('Tanggal')\n",
    "ax.set_title('Total Tweets per Hari')\n",
    "ax.set_xticks(np.arange(1, 4, step = 1))\n",
    "ax.set_xticklabels(('22 Maret', '1 April', '2 April'))\n",
    "ax.legend(loc = 0)"
   ]
  },
  {
   "cell_type": "markdown",
   "metadata": {},
   "source": [
    "Dapat dilihat hasil visualisasi dari total tweets dan tanggal (yang belum dinamis)"
   ]
  },
  {
   "cell_type": "markdown",
   "metadata": {},
   "source": [
    "Proses selanjutnya sama seperti proses sebelumnya, berupa pengolahan data untuk divisualisasikan."
   ]
  },
  {
   "cell_type": "markdown",
   "metadata": {},
   "source": [
    "Di bawah ini beberapa modul diimport.\n",
    "\n",
    "**Dan salah satu yang penting adalah command *% matplotlib inline* **\n",
    "\n",
    "Command %matplotlib inline, yang sering dinamakan magic command matplotlib, berguna untuk menghasilkan visualisasi (gambar; figure) agar dapat dilihat di dalam Jupyer. \n",
    "\n",
    "Jika kode sebelumnya dieksekusi tanpa magic command dan membuka figure di window baru, maka dengan mengaktifkan magic command ini, visualisasi dapat dilakukan di dalam Jupyter."
   ]
  },
  {
   "cell_type": "code",
   "execution_count": null,
   "metadata": {},
   "outputs": [],
   "source": [
    "# membuat tabel dan grafik data yang berisi jumlah total tweets per jam pada tanggal tertentu\n",
    "\n",
    "import matplotlib.pyplot as plt\n",
    "import seaborn as sns\n",
    "from pylab import *\n",
    "%matplotlib inline\n",
    "\n",
    "plt.rcParams['figure.figsize'] = (15, 5)"
   ]
  },
  {
   "cell_type": "markdown",
   "metadata": {},
   "source": [
    "Di bawah ini (3 sel di bawah ini) bukanlah kode yang merupakan visualisasi dari matplotlib. Tapi dilakukan dari Data Frame Pandas.\n",
    "\n",
    "Matplotlib memang terlihat *fancy* untuk visualisasi data, namun visualisasi tidak hanya lewat matplotlib; pandas, seaborn, plotly dan geographical plotting adalah modul lainnya yang bisa digunakan untuk visualisasi.\n",
    "\n",
    "Kali ini akan digunakan Pandas untuk visualisasi jumlah tweet yang dihasilkan setiap jamnya, dan akan divisualisasikan melalui matplotlib dalam bentuk *bar* dan *line*."
   ]
  },
  {
   "cell_type": "code",
   "execution_count": null,
   "metadata": {},
   "outputs": [],
   "source": [
    "# membuat tabel dan grafik data jumlah tweets\n",
    "\n",
    "from pandas import Series\n",
    "def f(x):\n",
    "     return Series(dict(Number_of_tweets = x['text'].count()))\n",
    "    \n",
    "hourly_count22m = tweetsIn22Mar.groupby(tweetsIn22Mar.index.hour).apply(f)\n",
    "print (\"data selama %d jam pada tanggal 22 Maret 2018\" % len(hourly_count22m))\n",
    "hourly_count22m"
   ]
  },
  {
   "cell_type": "markdown",
   "metadata": {},
   "source": [
    "Sebelumnya sudah diperagakan beberapa fungsi dari Data Frame pandas. Sekarang akan digunakan fungsi *group by* yang mengelompokkan data sesuai argumen yang diberikan, dalam hal ini jam *hour*.\n",
    "\n",
    "Alur kode:\n",
    "\n",
    "1. Melakukan import Series. Series merupakan bentuk 1D yang sifatnya sama dengan Data Frame, dan hanya berbeda dimensi)\n",
    "2. Membentuk fungsi yang mengoper x (dalam hal ini sebuah variabel hasil groupby dari hour tweets)\n",
    "3. Menempatkan hasil groupby ke dalam variabel baru hourly_count\n",
    "4. Melakukan print hourly_count\n",
    "\n",
    "**Dua baris sel di bawah juga melakukan hal yang sama**"
   ]
  },
  {
   "cell_type": "code",
   "execution_count": null,
   "metadata": {},
   "outputs": [],
   "source": [
    "hourly_count1ap = tweetsIn1Apr.groupby(tweetsIn1Apr.index.hour).apply(f)\n",
    "print (\"data selama %d jam pada tanggal 1 April 2018\" % len(hourly_count1ap))\n",
    "hourly_count1ap"
   ]
  },
  {
   "cell_type": "code",
   "execution_count": null,
   "metadata": {},
   "outputs": [],
   "source": [
    "hourly_count2ap = tweetsIn2Apr.groupby(tweetsIn2Apr.index.hour).apply(f)\n",
    "print (\"data selama %d jam pada tanggal 2 April 2018\" % len(hourly_count2ap))\n",
    "hourly_count2ap"
   ]
  },
  {
   "cell_type": "markdown",
   "metadata": {},
   "source": [
    "Dari visualisasi di atas dapat dilihat jumlah spesifik data pertanggal, perjamnya.\n",
    "\n",
    "Selanjutnya akan dilakukan visualisasi dengan bar dan lines melalui matplotlib."
   ]
  },
  {
   "cell_type": "markdown",
   "metadata": {},
   "source": [
    "Alur kode visualisaasi:\n",
    "\n",
    "1. Memberikan tools plt kepada variabel fig\n",
    "2. Membuat objek kanvas bernama 'ax' dari fig.\n",
    "3. Membuat plotting lines dengan hourly_count masing-masing tanggal yang ditandai *label* dengan mengoper kolom 'Number_of_tweets'\n",
    "4. Melakukan kustomisasi kanvas berupa title, label, xticks dan legend."
   ]
  },
  {
   "cell_type": "code",
   "execution_count": null,
   "metadata": {
    "scrolled": true
   },
   "outputs": [],
   "source": [
    "fig = plt.figure()\n",
    "\n",
    "ax = fig.add_axes([0,0,0.8,0.8])\n",
    "\n",
    "ax.plot(hourly_count22m['Number_of_tweets'], label = '22 Maret')\n",
    "ax.plot(hourly_count1ap['Number_of_tweets'], label = '1 April')\n",
    "ax.plot(hourly_count2ap['Number_of_tweets'], label = '2 April')\n",
    "\n",
    "ax.set_title('Total Tweets per Jam', fontsize=15)\n",
    "ax.set_xlabel('Jam', weight='bold', labelpad=15)\n",
    "ax.set_ylabel('Jumlah Tweets', weight='bold', labelpad=15)\n",
    "\n",
    "hours = list(range(0,24))\n",
    "xticks(np.arange(24), hours, rotation = 0,fontsize = 9)\n",
    "\n",
    "ax.legend()"
   ]
  },
  {
   "cell_type": "markdown",
   "metadata": {},
   "source": [
    "Kurang lebih sama seperti visualisasi sebelumnya. Hanya berbeda kategori yang divisualisasikan dengan cara yang berbeda (lines)\n",
    "\n",
    "Selanjutnya pun kurang lebih sama, dengan menggunakan cara bar."
   ]
  },
  {
   "cell_type": "code",
   "execution_count": null,
   "metadata": {
    "scrolled": true
   },
   "outputs": [],
   "source": [
    "fig, ax = plt.subplots()\n",
    "\n",
    "#hours = list(range(0,24))\n",
    "hours = np.arange(0, 24)\n",
    "bar_width = 0.2\n",
    "\n",
    "ax.bar(hours - bar_width, hourly_count22m['Number_of_tweets'], bar_width, label = '22 Maret')\n",
    "ax.bar(hours, hourly_count1ap['Number_of_tweets'], bar_width, label = '1 April')\n",
    "ax.bar(hours + bar_width, hourly_count2ap['Number_of_tweets'], bar_width, label = '2 April')\n",
    "\n",
    "ax.set_title('Total Tweets per Jam', fontsize=15)\n",
    "ax.set_xlabel('Jam', weight='bold', labelpad=15)\n",
    "ax.set_ylabel('Jumlah Tweets', weight='bold', labelpad=15)\n",
    "\n",
    "xticks(np.arange(24), hours, rotation = 0,fontsize = 9)\n",
    "ax.set_xticks(hours + bar_width / 2)\n",
    "#ax.set_xticklabels(np.arange(24), hours, rotation = 0,fontsize = 9)\n",
    "ax.legend()\n",
    "\n",
    "ax.legend()"
   ]
  },
  {
   "cell_type": "markdown",
   "metadata": {},
   "source": [
    "#### Penutup\n",
    "\n",
    "Dengan selesainya tahapan dari data mining twitter ini, akan diberikan kesimpulan:\n",
    "\n",
    "1. Proses yang dilakukan dalam aktivitas kali ini terdiri dari **Data Mining** atau proses pengambilan data, **Pre-Processing** atau proses manipulasi data, **Visualisasi** atau proses penggambaran dari data\n",
    "\n",
    "2. Library yang dibutuhkan diantaranya *tweepy, json, pandas, matplotlib* untuk melakukan proses di atas.\n",
    "\n",
    "3. Tweepy merupakan library yang memungkinkan script python berinteraksi dan mengambil data dari API Twitter\n",
    "\n",
    "4. Untuk melakukan loading (read-write) data digunaan library json\n",
    "\n",
    "5. Pandas; Data Frame dan Seriesnya adalah tools untuk memanipulasi data dengan banyak fungsi yang menyertainya. Manipulasi data di python selalu menggunakan Pandas\n",
    "\n",
    "6. Matplotlib adalah salah satu library untuk melakukan visualisasi. Di antara cara visualisasi lainnya dapat menggunakan Data Frame pandas, seaborn, pyplot dan geographical plotting."
   ]
  }
 ],
 "metadata": {
  "kernelspec": {
   "display_name": "Python 3",
   "language": "python",
   "name": "python3"
  },
  "language_info": {
   "codemirror_mode": {
    "name": "ipython",
    "version": 3
   },
   "file_extension": ".py",
   "mimetype": "text/x-python",
   "name": "python",
   "nbconvert_exporter": "python",
   "pygments_lexer": "ipython3",
   "version": "3.6.5"
  }
 },
 "nbformat": 4,
 "nbformat_minor": 2
}
